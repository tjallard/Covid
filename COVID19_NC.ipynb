{
  "cells": [
    {
      "cell_type": "markdown",
      "metadata": {
        "id": "view-in-github",
        "colab_type": "text"
      },
      "source": [
        "<a href=\"https://colab.research.google.com/github/tjallard/Covid/blob/main/COVID19_NC.ipynb\" target=\"_parent\"><img src=\"https://colab.research.google.com/assets/colab-badge.svg\" alt=\"Open In Colab\"/></a>"
      ]
    },
    {
      "cell_type": "markdown",
      "source": [
        "# Loading Libraries, data, and Google Functions"
      ],
      "metadata": {
        "id": "kjUugfHSCaax"
      }
    },
    {
      "cell_type": "code",
      "source": [
        "# Import Libraries\n",
        "import pandas as pd\n",
        "from matplotlib import pyplot as plt\n",
        "import numpy as np\n",
        "import io\n",
        "import matplotlib as mpl\n",
        "import seaborn as sns\n",
        "\n",
        "# It is a function that renders the figure in a notebook (instead of displaying a dump of the figure object).\n",
        "%matplotlib inline\n",
        "\n",
        "# To remove the scientific notation from numpy arrays\n",
        "np.set_printoptions(suppress=True)"
      ],
      "metadata": {
        "id": "659LSCFnix44"
      },
      "execution_count": null,
      "outputs": []
    },
    {
      "cell_type": "code",
      "source": [
        "# Adds functionality for accessing file on Google Drive\n",
        "#https://pypi.org/project/PyDrive/\n",
        "!pip install -U -q PyDrive\n",
        "from pydrive.auth import GoogleAuth\n",
        "from pydrive.drive import GoogleDrive\n",
        "from google.colab import auth\n",
        "from oauth2client.client import GoogleCredentials"
      ],
      "metadata": {
        "id": "AYcnhc8HFR-l"
      },
      "execution_count": null,
      "outputs": []
    },
    {
      "cell_type": "code",
      "metadata": {
        "id": "siFOuBXWWh7v"
      },
      "source": [
        "# Authenticate users to have acces to google Drive.  Click the link to get the code. \n",
        "# A seperate Google Window will open in your browser to authenticate.  \n",
        "# Copy code the very long code and paste it into the Colab. Hit enter.  \n",
        "\n",
        "auth.authenticate_user()\n",
        "gauth = GoogleAuth()\n",
        "gauth.credentials = GoogleCredentials.get_application_default()\n",
        "drive = GoogleDrive(gauth)"
      ],
      "execution_count": null,
      "outputs": []
    },
    {
      "cell_type": "code",
      "source": [
        "# This mounts your Google Drive\n",
        "from google.colab import drive\n",
        "drive.mount('/content/drive')"
      ],
      "metadata": {
        "id": "yZicZHFh1FYd",
        "colab": {
          "base_uri": "https://localhost:8080/"
        },
        "outputId": "d1c0c78d-c00f-40b8-a998-44d6f8844a79"
      },
      "execution_count": null,
      "outputs": [
        {
          "output_type": "stream",
          "name": "stdout",
          "text": [
            "Mounted at /content/drive\n"
          ]
        }
      ]
    },
    {
      "cell_type": "code",
      "source": [
        "# Load data from Google Drive\n",
        "df = pd.read_csv('/content/drive/MyDrive/COVID_Study/COVID_Data/NC_Z4_19_20_2022May26.csv')"
      ],
      "metadata": {
        "id": "62VSvWPJbNxE"
      },
      "execution_count": null,
      "outputs": []
    },
    {
      "cell_type": "markdown",
      "source": [
        "# Summary of the data"
      ],
      "metadata": {
        "id": "CYFVkeT5CnCY"
      }
    },
    {
      "cell_type": "code",
      "source": [
        "# Verify the data\n",
        "df"
      ],
      "metadata": {
        "colab": {
          "base_uri": "https://localhost:8080/",
          "height": 488
        },
        "id": "bN-tVJm3FeQn",
        "outputId": "5b48c2cb-3c1d-43e7-bd39-758d08972107"
      },
      "execution_count": null,
      "outputs": [
        {
          "output_type": "execute_result",
          "data": {
            "text/plain": [
              "         ZIP_CODE  ZIP4 20_CRRTTYPE  20_POP20  20_HH20  20_POPGROW20  \\\n",
              "0           27006     1           B      96.1     37.6          3.44   \n",
              "1           27006   121           B      58.0     22.7          3.44   \n",
              "2           27006   201           B      81.2     31.7          3.44   \n",
              "3           27006   316           B      77.9     30.4          3.44   \n",
              "4           27006   476           B      77.9     30.4          3.44   \n",
              "...           ...   ...         ...       ...      ...           ...   \n",
              "1563433     30559  2385           R       2.6      1.1          7.75   \n",
              "1563434     30559  3096           R       2.3      1.0         13.13   \n",
              "1563435     30559  9000           R       1.9      0.8         12.37   \n",
              "1563436     30559  9200           R       1.9      0.8         12.37   \n",
              "1563437     30559  9201           R       1.9      0.8         12.37   \n",
              "\n",
              "         20_AVGHHSIZE  20_MEDAGHHER  20_MEDRENT  20_MEDVALOCC  ...  \\\n",
              "0                2.56          55.1         833        273458  ...   \n",
              "1                2.56          55.1         833        273458  ...   \n",
              "2                2.56          55.1         833        273458  ...   \n",
              "3                2.56          55.1         833        273458  ...   \n",
              "4                2.56          55.1         833        273458  ...   \n",
              "...               ...           ...         ...           ...  ...   \n",
              "1563433          2.26          60.4         228        130226  ...   \n",
              "1563434          2.36          59.7         293        165705  ...   \n",
              "1563435          2.32          61.8         689        152497  ...   \n",
              "1563436          2.32          61.8         689        152497  ...   \n",
              "1563437          2.32          61.8         689        152497  ...   \n",
              "\n",
              "         19_PCTBLPOP  19_PCTHISPOP  19_PCTWNHPOP  19_PCTGRADDEG  19_PCTWHCOL  \\\n",
              "0               2.74          1.78         92.94          23.26        43.95   \n",
              "1               2.74          1.78         92.94          23.26        43.95   \n",
              "2               2.74          1.78         92.94          23.26        43.95   \n",
              "3               2.74          1.78         92.94          23.26        43.95   \n",
              "4               2.74          1.78         92.94          23.26        43.95   \n",
              "...              ...           ...           ...            ...          ...   \n",
              "1563433         0.96          1.86         94.22           9.67        20.30   \n",
              "1563434         0.44          0.90         96.88           4.04        17.35   \n",
              "1563435         0.73          2.94         94.61           8.24        21.25   \n",
              "1563436         0.73          2.94         94.61           8.24        21.25   \n",
              "1563437         0.73          2.94         94.61           8.24        21.25   \n",
              "\n",
              "         19_PCTSPARC  19_CASH_EDU  19_HEALTHINS  MEDHHINC MEDAGHHER  \n",
              "0               7.50         83.9        4165.7    112300      54.1  \n",
              "1               7.50         83.9        4165.7    112300      54.1  \n",
              "2               7.50         83.9        4165.7    112300      54.1  \n",
              "3               7.50         83.9        4165.7    112300      54.1  \n",
              "4               7.50         83.9        4165.7    112300      54.1  \n",
              "...              ...          ...           ...       ...       ...  \n",
              "1563433         5.66         30.7        3761.1     57335      60.1  \n",
              "1563434         7.36         41.6        3826.5     55070      59.0  \n",
              "1563435         5.23         34.6        3726.1     41924      60.8  \n",
              "1563436         5.23         34.6        3726.1     41924      60.8  \n",
              "1563437         5.23         34.6        3726.1     41924      60.8  \n",
              "\n",
              "[1563438 rows x 39 columns]"
            ],
            "text/html": [
              "\n",
              "  <div id=\"df-4fed014f-3307-4ebc-bd89-5e5e3bfcb956\">\n",
              "    <div class=\"colab-df-container\">\n",
              "      <div>\n",
              "<style scoped>\n",
              "    .dataframe tbody tr th:only-of-type {\n",
              "        vertical-align: middle;\n",
              "    }\n",
              "\n",
              "    .dataframe tbody tr th {\n",
              "        vertical-align: top;\n",
              "    }\n",
              "\n",
              "    .dataframe thead th {\n",
              "        text-align: right;\n",
              "    }\n",
              "</style>\n",
              "<table border=\"1\" class=\"dataframe\">\n",
              "  <thead>\n",
              "    <tr style=\"text-align: right;\">\n",
              "      <th></th>\n",
              "      <th>ZIP_CODE</th>\n",
              "      <th>ZIP4</th>\n",
              "      <th>20_CRRTTYPE</th>\n",
              "      <th>20_POP20</th>\n",
              "      <th>20_HH20</th>\n",
              "      <th>20_POPGROW20</th>\n",
              "      <th>20_AVGHHSIZE</th>\n",
              "      <th>20_MEDAGHHER</th>\n",
              "      <th>20_MEDRENT</th>\n",
              "      <th>20_MEDVALOCC</th>\n",
              "      <th>...</th>\n",
              "      <th>19_PCTBLPOP</th>\n",
              "      <th>19_PCTHISPOP</th>\n",
              "      <th>19_PCTWNHPOP</th>\n",
              "      <th>19_PCTGRADDEG</th>\n",
              "      <th>19_PCTWHCOL</th>\n",
              "      <th>19_PCTSPARC</th>\n",
              "      <th>19_CASH_EDU</th>\n",
              "      <th>19_HEALTHINS</th>\n",
              "      <th>MEDHHINC</th>\n",
              "      <th>MEDAGHHER</th>\n",
              "    </tr>\n",
              "  </thead>\n",
              "  <tbody>\n",
              "    <tr>\n",
              "      <th>0</th>\n",
              "      <td>27006</td>\n",
              "      <td>1</td>\n",
              "      <td>B</td>\n",
              "      <td>96.1</td>\n",
              "      <td>37.6</td>\n",
              "      <td>3.44</td>\n",
              "      <td>2.56</td>\n",
              "      <td>55.1</td>\n",
              "      <td>833</td>\n",
              "      <td>273458</td>\n",
              "      <td>...</td>\n",
              "      <td>2.74</td>\n",
              "      <td>1.78</td>\n",
              "      <td>92.94</td>\n",
              "      <td>23.26</td>\n",
              "      <td>43.95</td>\n",
              "      <td>7.50</td>\n",
              "      <td>83.9</td>\n",
              "      <td>4165.7</td>\n",
              "      <td>112300</td>\n",
              "      <td>54.1</td>\n",
              "    </tr>\n",
              "    <tr>\n",
              "      <th>1</th>\n",
              "      <td>27006</td>\n",
              "      <td>121</td>\n",
              "      <td>B</td>\n",
              "      <td>58.0</td>\n",
              "      <td>22.7</td>\n",
              "      <td>3.44</td>\n",
              "      <td>2.56</td>\n",
              "      <td>55.1</td>\n",
              "      <td>833</td>\n",
              "      <td>273458</td>\n",
              "      <td>...</td>\n",
              "      <td>2.74</td>\n",
              "      <td>1.78</td>\n",
              "      <td>92.94</td>\n",
              "      <td>23.26</td>\n",
              "      <td>43.95</td>\n",
              "      <td>7.50</td>\n",
              "      <td>83.9</td>\n",
              "      <td>4165.7</td>\n",
              "      <td>112300</td>\n",
              "      <td>54.1</td>\n",
              "    </tr>\n",
              "    <tr>\n",
              "      <th>2</th>\n",
              "      <td>27006</td>\n",
              "      <td>201</td>\n",
              "      <td>B</td>\n",
              "      <td>81.2</td>\n",
              "      <td>31.7</td>\n",
              "      <td>3.44</td>\n",
              "      <td>2.56</td>\n",
              "      <td>55.1</td>\n",
              "      <td>833</td>\n",
              "      <td>273458</td>\n",
              "      <td>...</td>\n",
              "      <td>2.74</td>\n",
              "      <td>1.78</td>\n",
              "      <td>92.94</td>\n",
              "      <td>23.26</td>\n",
              "      <td>43.95</td>\n",
              "      <td>7.50</td>\n",
              "      <td>83.9</td>\n",
              "      <td>4165.7</td>\n",
              "      <td>112300</td>\n",
              "      <td>54.1</td>\n",
              "    </tr>\n",
              "    <tr>\n",
              "      <th>3</th>\n",
              "      <td>27006</td>\n",
              "      <td>316</td>\n",
              "      <td>B</td>\n",
              "      <td>77.9</td>\n",
              "      <td>30.4</td>\n",
              "      <td>3.44</td>\n",
              "      <td>2.56</td>\n",
              "      <td>55.1</td>\n",
              "      <td>833</td>\n",
              "      <td>273458</td>\n",
              "      <td>...</td>\n",
              "      <td>2.74</td>\n",
              "      <td>1.78</td>\n",
              "      <td>92.94</td>\n",
              "      <td>23.26</td>\n",
              "      <td>43.95</td>\n",
              "      <td>7.50</td>\n",
              "      <td>83.9</td>\n",
              "      <td>4165.7</td>\n",
              "      <td>112300</td>\n",
              "      <td>54.1</td>\n",
              "    </tr>\n",
              "    <tr>\n",
              "      <th>4</th>\n",
              "      <td>27006</td>\n",
              "      <td>476</td>\n",
              "      <td>B</td>\n",
              "      <td>77.9</td>\n",
              "      <td>30.4</td>\n",
              "      <td>3.44</td>\n",
              "      <td>2.56</td>\n",
              "      <td>55.1</td>\n",
              "      <td>833</td>\n",
              "      <td>273458</td>\n",
              "      <td>...</td>\n",
              "      <td>2.74</td>\n",
              "      <td>1.78</td>\n",
              "      <td>92.94</td>\n",
              "      <td>23.26</td>\n",
              "      <td>43.95</td>\n",
              "      <td>7.50</td>\n",
              "      <td>83.9</td>\n",
              "      <td>4165.7</td>\n",
              "      <td>112300</td>\n",
              "      <td>54.1</td>\n",
              "    </tr>\n",
              "    <tr>\n",
              "      <th>...</th>\n",
              "      <td>...</td>\n",
              "      <td>...</td>\n",
              "      <td>...</td>\n",
              "      <td>...</td>\n",
              "      <td>...</td>\n",
              "      <td>...</td>\n",
              "      <td>...</td>\n",
              "      <td>...</td>\n",
              "      <td>...</td>\n",
              "      <td>...</td>\n",
              "      <td>...</td>\n",
              "      <td>...</td>\n",
              "      <td>...</td>\n",
              "      <td>...</td>\n",
              "      <td>...</td>\n",
              "      <td>...</td>\n",
              "      <td>...</td>\n",
              "      <td>...</td>\n",
              "      <td>...</td>\n",
              "      <td>...</td>\n",
              "      <td>...</td>\n",
              "    </tr>\n",
              "    <tr>\n",
              "      <th>1563433</th>\n",
              "      <td>30559</td>\n",
              "      <td>2385</td>\n",
              "      <td>R</td>\n",
              "      <td>2.6</td>\n",
              "      <td>1.1</td>\n",
              "      <td>7.75</td>\n",
              "      <td>2.26</td>\n",
              "      <td>60.4</td>\n",
              "      <td>228</td>\n",
              "      <td>130226</td>\n",
              "      <td>...</td>\n",
              "      <td>0.96</td>\n",
              "      <td>1.86</td>\n",
              "      <td>94.22</td>\n",
              "      <td>9.67</td>\n",
              "      <td>20.30</td>\n",
              "      <td>5.66</td>\n",
              "      <td>30.7</td>\n",
              "      <td>3761.1</td>\n",
              "      <td>57335</td>\n",
              "      <td>60.1</td>\n",
              "    </tr>\n",
              "    <tr>\n",
              "      <th>1563434</th>\n",
              "      <td>30559</td>\n",
              "      <td>3096</td>\n",
              "      <td>R</td>\n",
              "      <td>2.3</td>\n",
              "      <td>1.0</td>\n",
              "      <td>13.13</td>\n",
              "      <td>2.36</td>\n",
              "      <td>59.7</td>\n",
              "      <td>293</td>\n",
              "      <td>165705</td>\n",
              "      <td>...</td>\n",
              "      <td>0.44</td>\n",
              "      <td>0.90</td>\n",
              "      <td>96.88</td>\n",
              "      <td>4.04</td>\n",
              "      <td>17.35</td>\n",
              "      <td>7.36</td>\n",
              "      <td>41.6</td>\n",
              "      <td>3826.5</td>\n",
              "      <td>55070</td>\n",
              "      <td>59.0</td>\n",
              "    </tr>\n",
              "    <tr>\n",
              "      <th>1563435</th>\n",
              "      <td>30559</td>\n",
              "      <td>9000</td>\n",
              "      <td>R</td>\n",
              "      <td>1.9</td>\n",
              "      <td>0.8</td>\n",
              "      <td>12.37</td>\n",
              "      <td>2.32</td>\n",
              "      <td>61.8</td>\n",
              "      <td>689</td>\n",
              "      <td>152497</td>\n",
              "      <td>...</td>\n",
              "      <td>0.73</td>\n",
              "      <td>2.94</td>\n",
              "      <td>94.61</td>\n",
              "      <td>8.24</td>\n",
              "      <td>21.25</td>\n",
              "      <td>5.23</td>\n",
              "      <td>34.6</td>\n",
              "      <td>3726.1</td>\n",
              "      <td>41924</td>\n",
              "      <td>60.8</td>\n",
              "    </tr>\n",
              "    <tr>\n",
              "      <th>1563436</th>\n",
              "      <td>30559</td>\n",
              "      <td>9200</td>\n",
              "      <td>R</td>\n",
              "      <td>1.9</td>\n",
              "      <td>0.8</td>\n",
              "      <td>12.37</td>\n",
              "      <td>2.32</td>\n",
              "      <td>61.8</td>\n",
              "      <td>689</td>\n",
              "      <td>152497</td>\n",
              "      <td>...</td>\n",
              "      <td>0.73</td>\n",
              "      <td>2.94</td>\n",
              "      <td>94.61</td>\n",
              "      <td>8.24</td>\n",
              "      <td>21.25</td>\n",
              "      <td>5.23</td>\n",
              "      <td>34.6</td>\n",
              "      <td>3726.1</td>\n",
              "      <td>41924</td>\n",
              "      <td>60.8</td>\n",
              "    </tr>\n",
              "    <tr>\n",
              "      <th>1563437</th>\n",
              "      <td>30559</td>\n",
              "      <td>9201</td>\n",
              "      <td>R</td>\n",
              "      <td>1.9</td>\n",
              "      <td>0.8</td>\n",
              "      <td>12.37</td>\n",
              "      <td>2.32</td>\n",
              "      <td>61.8</td>\n",
              "      <td>689</td>\n",
              "      <td>152497</td>\n",
              "      <td>...</td>\n",
              "      <td>0.73</td>\n",
              "      <td>2.94</td>\n",
              "      <td>94.61</td>\n",
              "      <td>8.24</td>\n",
              "      <td>21.25</td>\n",
              "      <td>5.23</td>\n",
              "      <td>34.6</td>\n",
              "      <td>3726.1</td>\n",
              "      <td>41924</td>\n",
              "      <td>60.8</td>\n",
              "    </tr>\n",
              "  </tbody>\n",
              "</table>\n",
              "<p>1563438 rows × 39 columns</p>\n",
              "</div>\n",
              "      <button class=\"colab-df-convert\" onclick=\"convertToInteractive('df-4fed014f-3307-4ebc-bd89-5e5e3bfcb956')\"\n",
              "              title=\"Convert this dataframe to an interactive table.\"\n",
              "              style=\"display:none;\">\n",
              "        \n",
              "  <svg xmlns=\"http://www.w3.org/2000/svg\" height=\"24px\"viewBox=\"0 0 24 24\"\n",
              "       width=\"24px\">\n",
              "    <path d=\"M0 0h24v24H0V0z\" fill=\"none\"/>\n",
              "    <path d=\"M18.56 5.44l.94 2.06.94-2.06 2.06-.94-2.06-.94-.94-2.06-.94 2.06-2.06.94zm-11 1L8.5 8.5l.94-2.06 2.06-.94-2.06-.94L8.5 2.5l-.94 2.06-2.06.94zm10 10l.94 2.06.94-2.06 2.06-.94-2.06-.94-.94-2.06-.94 2.06-2.06.94z\"/><path d=\"M17.41 7.96l-1.37-1.37c-.4-.4-.92-.59-1.43-.59-.52 0-1.04.2-1.43.59L10.3 9.45l-7.72 7.72c-.78.78-.78 2.05 0 2.83L4 21.41c.39.39.9.59 1.41.59.51 0 1.02-.2 1.41-.59l7.78-7.78 2.81-2.81c.8-.78.8-2.07 0-2.86zM5.41 20L4 18.59l7.72-7.72 1.47 1.35L5.41 20z\"/>\n",
              "  </svg>\n",
              "      </button>\n",
              "      \n",
              "  <style>\n",
              "    .colab-df-container {\n",
              "      display:flex;\n",
              "      flex-wrap:wrap;\n",
              "      gap: 12px;\n",
              "    }\n",
              "\n",
              "    .colab-df-convert {\n",
              "      background-color: #E8F0FE;\n",
              "      border: none;\n",
              "      border-radius: 50%;\n",
              "      cursor: pointer;\n",
              "      display: none;\n",
              "      fill: #1967D2;\n",
              "      height: 32px;\n",
              "      padding: 0 0 0 0;\n",
              "      width: 32px;\n",
              "    }\n",
              "\n",
              "    .colab-df-convert:hover {\n",
              "      background-color: #E2EBFA;\n",
              "      box-shadow: 0px 1px 2px rgba(60, 64, 67, 0.3), 0px 1px 3px 1px rgba(60, 64, 67, 0.15);\n",
              "      fill: #174EA6;\n",
              "    }\n",
              "\n",
              "    [theme=dark] .colab-df-convert {\n",
              "      background-color: #3B4455;\n",
              "      fill: #D2E3FC;\n",
              "    }\n",
              "\n",
              "    [theme=dark] .colab-df-convert:hover {\n",
              "      background-color: #434B5C;\n",
              "      box-shadow: 0px 1px 3px 1px rgba(0, 0, 0, 0.15);\n",
              "      filter: drop-shadow(0px 1px 2px rgba(0, 0, 0, 0.3));\n",
              "      fill: #FFFFFF;\n",
              "    }\n",
              "  </style>\n",
              "\n",
              "      <script>\n",
              "        const buttonEl =\n",
              "          document.querySelector('#df-4fed014f-3307-4ebc-bd89-5e5e3bfcb956 button.colab-df-convert');\n",
              "        buttonEl.style.display =\n",
              "          google.colab.kernel.accessAllowed ? 'block' : 'none';\n",
              "\n",
              "        async function convertToInteractive(key) {\n",
              "          const element = document.querySelector('#df-4fed014f-3307-4ebc-bd89-5e5e3bfcb956');\n",
              "          const dataTable =\n",
              "            await google.colab.kernel.invokeFunction('convertToInteractive',\n",
              "                                                     [key], {});\n",
              "          if (!dataTable) return;\n",
              "\n",
              "          const docLinkHtml = 'Like what you see? Visit the ' +\n",
              "            '<a target=\"_blank\" href=https://colab.research.google.com/notebooks/data_table.ipynb>data table notebook</a>'\n",
              "            + ' to learn more about interactive tables.';\n",
              "          element.innerHTML = '';\n",
              "          dataTable['output_type'] = 'display_data';\n",
              "          await google.colab.output.renderOutput(dataTable, element);\n",
              "          const docLink = document.createElement('div');\n",
              "          docLink.innerHTML = docLinkHtml;\n",
              "          element.appendChild(docLink);\n",
              "        }\n",
              "      </script>\n",
              "    </div>\n",
              "  </div>\n",
              "  "
            ]
          },
          "metadata": {},
          "execution_count": 9
        }
      ]
    },
    {
      "cell_type": "code",
      "execution_count": null,
      "metadata": {
        "id": "eZSiKkRNG3zE",
        "colab": {
          "base_uri": "https://localhost:8080/"
        },
        "outputId": "e421b3ae-f499-4fae-bf06-ccc7bf2db0c3"
      },
      "outputs": [
        {
          "output_type": "execute_result",
          "data": {
            "text/plain": [
              "(1563438, 39)"
            ]
          },
          "metadata": {},
          "execution_count": 10
        }
      ],
      "source": [
        "# Check shape of dataframe\n",
        "df.shape"
      ]
    },
    {
      "cell_type": "code",
      "execution_count": null,
      "metadata": {
        "id": "4ba5nZDeG3zG"
      },
      "outputs": [],
      "source": [
        "# Add prefix 19_ to columns MEDHHINC, MEDAGHHER to keep naming consistent\n",
        "df.rename(columns={\"MEDHHINC\":\"19_MEDHHINC\", \"MEDAGHHER\":\"19_MEDAGHHER\"}, inplace = True)"
      ]
    },
    {
      "cell_type": "code",
      "execution_count": null,
      "metadata": {
        "id": "3RHST8kaG3zG",
        "colab": {
          "base_uri": "https://localhost:8080/"
        },
        "outputId": "2eac7366-3dac-452f-9878-da79d3f34348"
      },
      "outputs": [
        {
          "output_type": "execute_result",
          "data": {
            "text/plain": [
              "Index(['ZIP_CODE', 'ZIP4', '20_CRRTTYPE', '20_POP20', '20_HH20',\n",
              "       '20_POPGROW20', '20_AVGHHSIZE', '20_MEDAGHHER', '20_MEDRENT',\n",
              "       '20_MEDVALOCC', '20_MEDVEHICLE', '20_MEDHHINC', '20_AVGHHINC',\n",
              "       '20_PERCAPINC', '20_MEDAGE', '20_PCTHH200P', '20_HHHINCAVG',\n",
              "       'Right_ZIP_CODE', 'Right_ZIP4', 'STAABBRV', 'LAT', 'LONG', '19_POP19',\n",
              "       '19_HH19', '19_POPGROW19', '19_MEDVEHICLE', '19_MEDAGE', '19_PCTOOHH',\n",
              "       '19_PCTWHPOP', '19_PCTBLPOP', '19_PCTHISPOP', '19_PCTWNHPOP',\n",
              "       '19_PCTGRADDEG', '19_PCTWHCOL', '19_PCTSPARC', '19_CASH_EDU',\n",
              "       '19_HEALTHINS', '19_MEDHHINC', '19_MEDAGHHER'],\n",
              "      dtype='object')"
            ]
          },
          "metadata": {},
          "execution_count": 12
        }
      ],
      "source": [
        "# Verify Rename\n",
        "df.columns"
      ]
    },
    {
      "cell_type": "code",
      "source": [
        "# Verify that the columns 'ZIP_CODE' and 'Right_ZIP_CODE' are equal\n",
        "df['ZIP_CODE'].equals(df['Right_ZIP_CODE']) "
      ],
      "metadata": {
        "colab": {
          "base_uri": "https://localhost:8080/"
        },
        "id": "5ooN_J9QLAmX",
        "outputId": "67f91735-3c5d-42ff-8f9c-e22cf3d03d05"
      },
      "execution_count": null,
      "outputs": [
        {
          "output_type": "execute_result",
          "data": {
            "text/plain": [
              "True"
            ]
          },
          "metadata": {},
          "execution_count": 13
        }
      ]
    },
    {
      "cell_type": "code",
      "source": [
        "# Verify that the columns 'ZIP4' and 'Right_ZIP4' are equal\n",
        "df['ZIP4'].equals(df['Right_ZIP4']) "
      ],
      "metadata": {
        "colab": {
          "base_uri": "https://localhost:8080/"
        },
        "id": "Dj8ludZ6KYQA",
        "outputId": "08deec17-879d-4eaa-d3f5-65ef2e80c9d9"
      },
      "execution_count": null,
      "outputs": [
        {
          "output_type": "execute_result",
          "data": {
            "text/plain": [
              "True"
            ]
          },
          "metadata": {},
          "execution_count": 14
        }
      ]
    },
    {
      "cell_type": "code",
      "source": [
        "# Drop Columns that are redundant or not needed \n",
        "df.drop(['Right_ZIP_CODE', 'Right_ZIP4', 'STAABBRV', 'LAT', 'LONG', '20_CRRTTYPE'], axis=1, inplace=True);"
      ],
      "metadata": {
        "id": "NG3Nn9LPqmaW"
      },
      "execution_count": null,
      "outputs": []
    },
    {
      "cell_type": "code",
      "source": [
        "# Verify dropped columns\n",
        "df.shape"
      ],
      "metadata": {
        "colab": {
          "base_uri": "https://localhost:8080/"
        },
        "id": "IJ0dcpoF1_sV",
        "outputId": "c5be9a7d-ed76-4e5b-f7d9-982064f50d77"
      },
      "execution_count": null,
      "outputs": [
        {
          "output_type": "execute_result",
          "data": {
            "text/plain": [
              "(1563438, 33)"
            ]
          },
          "metadata": {},
          "execution_count": 16
        }
      ]
    },
    {
      "cell_type": "code",
      "execution_count": null,
      "metadata": {
        "id": "2aigEB-DG3zG",
        "colab": {
          "base_uri": "https://localhost:8080/"
        },
        "outputId": "91632d16-a9b9-40c9-f03d-bb927fe42a41"
      },
      "outputs": [
        {
          "output_type": "execute_result",
          "data": {
            "text/plain": [
              "ZIP_CODE           int64\n",
              "ZIP4               int64\n",
              "20_POP20         float64\n",
              "20_HH20          float64\n",
              "20_POPGROW20     float64\n",
              "20_AVGHHSIZE     float64\n",
              "20_MEDAGHHER     float64\n",
              "20_MEDRENT         int64\n",
              "20_MEDVALOCC       int64\n",
              "20_MEDVEHICLE    float64\n",
              "20_MEDHHINC        int64\n",
              "20_AVGHHINC        int64\n",
              "20_PERCAPINC       int64\n",
              "20_MEDAGE        float64\n",
              "20_PCTHH200P     float64\n",
              "20_HHHINCAVG       int64\n",
              "19_POP19         float64\n",
              "19_HH19          float64\n",
              "19_POPGROW19     float64\n",
              "19_MEDVEHICLE    float64\n",
              "19_MEDAGE        float64\n",
              "19_PCTOOHH       float64\n",
              "19_PCTWHPOP      float64\n",
              "19_PCTBLPOP      float64\n",
              "19_PCTHISPOP     float64\n",
              "19_PCTWNHPOP     float64\n",
              "19_PCTGRADDEG    float64\n",
              "19_PCTWHCOL      float64\n",
              "19_PCTSPARC      float64\n",
              "19_CASH_EDU      float64\n",
              "19_HEALTHINS     float64\n",
              "19_MEDHHINC        int64\n",
              "19_MEDAGHHER     float64\n",
              "dtype: object"
            ]
          },
          "metadata": {},
          "execution_count": 17
        }
      ],
      "source": [
        "# Check data types\n",
        "df.dtypes"
      ]
    },
    {
      "cell_type": "markdown",
      "source": [
        "# NULLS and Missing Values Treatment"
      ],
      "metadata": {
        "id": "VAFDN1Pjf2nQ"
      }
    },
    {
      "cell_type": "code",
      "source": [
        "# Verify Number of entries\n",
        "len(df)"
      ],
      "metadata": {
        "colab": {
          "base_uri": "https://localhost:8080/"
        },
        "id": "CZW3TRio3te9",
        "outputId": "7525f323-7d4a-447a-dc1d-2f4b56a20da9"
      },
      "execution_count": null,
      "outputs": [
        {
          "output_type": "execute_result",
          "data": {
            "text/plain": [
              "1563438"
            ]
          },
          "metadata": {},
          "execution_count": 18
        }
      ]
    },
    {
      "cell_type": "code",
      "execution_count": null,
      "metadata": {
        "id": "eFhy4S-EG3zJ"
      },
      "outputs": [],
      "source": [
        "#Drop any 19_POP19 row that has a 0 population\n",
        "df = df[df['19_POP19'] != 0]"
      ]
    },
    {
      "cell_type": "code",
      "source": [
        "# Verify '19_POP19' dropped values\n",
        "len(df)"
      ],
      "metadata": {
        "colab": {
          "base_uri": "https://localhost:8080/"
        },
        "id": "Kek615uJgIhO",
        "outputId": "9041e2b6-0660-480d-99b4-4a9265615149"
      },
      "execution_count": null,
      "outputs": [
        {
          "output_type": "execute_result",
          "data": {
            "text/plain": [
              "1524026"
            ]
          },
          "metadata": {},
          "execution_count": 20
        }
      ]
    },
    {
      "cell_type": "code",
      "execution_count": null,
      "metadata": {
        "id": "V0y2-BWmG3zJ"
      },
      "outputs": [],
      "source": [
        "#Drop any '20_POP20' row that has a 0 population\n",
        "df = df[df['20_POP20'] != 0]"
      ]
    },
    {
      "cell_type": "code",
      "execution_count": null,
      "metadata": {
        "id": "1g624SRcG3zK",
        "colab": {
          "base_uri": "https://localhost:8080/"
        },
        "outputId": "a95d1e6c-1525-42b2-e358-09ed2171a6b8"
      },
      "outputs": [
        {
          "output_type": "execute_result",
          "data": {
            "text/plain": [
              "1523845"
            ]
          },
          "metadata": {},
          "execution_count": 22
        }
      ],
      "source": [
        "# Verify '20_POP20' dropped values\n",
        "len(df)"
      ]
    },
    {
      "cell_type": "code",
      "execution_count": null,
      "metadata": {
        "id": "T9RK0_ZXG3zK",
        "colab": {
          "base_uri": "https://localhost:8080/"
        },
        "outputId": "2a59eb53-746a-472f-addc-3f666fda53f5"
      },
      "outputs": [
        {
          "output_type": "execute_result",
          "data": {
            "text/plain": [
              "-2.5324317305834967"
            ]
          },
          "metadata": {},
          "execution_count": 23
        }
      ],
      "source": [
        "# Rows before dropping zeros and rows after dropping zeros (better way to do this?)\n",
        "# Total Rows before droping zeros = 1563438\n",
        "# After dropping 2019 zeros = 1524026/1563438\n",
        "# After dropping 2020 zeros = 1523845/1563438\n",
        "lostrows = (1523845/1563438) * 100 - 100\n",
        "lostrows"
      ]
    },
    {
      "cell_type": "code",
      "execution_count": null,
      "metadata": {
        "id": "eDR8Y56WG3zK",
        "colab": {
          "base_uri": "https://localhost:8080/"
        },
        "outputId": "e220ec69-7d80-434c-a120-9a3b0e0df1d5"
      },
      "outputs": [
        {
          "output_type": "execute_result",
          "data": {
            "text/plain": [
              "-2.520854680518198"
            ]
          },
          "metadata": {},
          "execution_count": 24
        }
      ],
      "source": [
        "# Lost rows from zeros in 2019\n",
        "lostrows2019 = (1524026/1563438) * 100 - 100\n",
        "lostrows2019"
      ]
    },
    {
      "cell_type": "code",
      "execution_count": null,
      "metadata": {
        "id": "XugnHdYBG3zK",
        "colab": {
          "base_uri": "https://localhost:8080/"
        },
        "outputId": "7a30dbf4-62bc-476e-b67d-6255c308d484"
      },
      "outputs": [
        {
          "output_type": "execute_result",
          "data": {
            "text/plain": [
              "-2.5324317305834967"
            ]
          },
          "metadata": {},
          "execution_count": 25
        }
      ],
      "source": [
        "# Lost rows from zeros in 2020\n",
        "lostrows2020 = (1523845/1563438) * 100 - 100\n",
        "lostrows2020"
      ]
    },
    {
      "cell_type": "code",
      "execution_count": null,
      "metadata": {
        "id": "da7wkFmmG3zH",
        "colab": {
          "base_uri": "https://localhost:8080/"
        },
        "outputId": "6095ff08-b86f-45ec-978c-3807624f34fc"
      },
      "outputs": [
        {
          "output_type": "execute_result",
          "data": {
            "text/plain": [
              "0"
            ]
          },
          "metadata": {},
          "execution_count": 26
        }
      ],
      "source": [
        "# Check for any Null missing values\n",
        "df.isnull().sum().sum()"
      ]
    },
    {
      "cell_type": "code",
      "execution_count": null,
      "metadata": {
        "id": "vF6xM5wjG3zH",
        "colab": {
          "base_uri": "https://localhost:8080/"
        },
        "outputId": "d1d678d1-1e00-4c86-cef2-9fa0a6725770"
      },
      "outputs": [
        {
          "output_type": "execute_result",
          "data": {
            "text/plain": [
              "ZIP_CODE         False\n",
              "ZIP4             False\n",
              "20_POP20         False\n",
              "20_HH20          False\n",
              "20_POPGROW20     False\n",
              "20_AVGHHSIZE     False\n",
              "20_MEDAGHHER     False\n",
              "20_MEDRENT       False\n",
              "20_MEDVALOCC     False\n",
              "20_MEDVEHICLE    False\n",
              "20_MEDHHINC      False\n",
              "20_AVGHHINC      False\n",
              "20_PERCAPINC     False\n",
              "20_MEDAGE        False\n",
              "20_PCTHH200P     False\n",
              "20_HHHINCAVG     False\n",
              "19_POP19         False\n",
              "19_HH19          False\n",
              "19_POPGROW19     False\n",
              "19_MEDVEHICLE    False\n",
              "19_MEDAGE        False\n",
              "19_PCTOOHH       False\n",
              "19_PCTWHPOP      False\n",
              "19_PCTBLPOP      False\n",
              "19_PCTHISPOP     False\n",
              "19_PCTWNHPOP     False\n",
              "19_PCTGRADDEG    False\n",
              "19_PCTWHCOL      False\n",
              "19_PCTSPARC      False\n",
              "19_CASH_EDU      False\n",
              "19_HEALTHINS     False\n",
              "19_MEDHHINC      False\n",
              "19_MEDAGHHER     False\n",
              "dtype: bool"
            ]
          },
          "metadata": {},
          "execution_count": 27
        }
      ],
      "source": [
        "# Check location of Null missing values\n",
        "df.isnull().any()"
      ]
    },
    {
      "cell_type": "code",
      "execution_count": null,
      "metadata": {
        "id": "o_sH3E5qG3zH",
        "colab": {
          "base_uri": "https://localhost:8080/"
        },
        "outputId": "6399c6aa-4798-4753-8ed5-e9320b725047"
      },
      "outputs": [
        {
          "output_type": "execute_result",
          "data": {
            "text/plain": [
              "0"
            ]
          },
          "metadata": {},
          "execution_count": 28
        }
      ],
      "source": [
        "# Check rows for objects with the value of 'NaN'\n",
        "df.eq('NaN', axis=0).sum().sum()"
      ]
    },
    {
      "cell_type": "code",
      "execution_count": null,
      "metadata": {
        "id": "sqPVvbW5G3zI",
        "colab": {
          "base_uri": "https://localhost:8080/"
        },
        "outputId": "60b08b1e-cc9f-4c9c-a30b-03ac63fcbf42"
      },
      "outputs": [
        {
          "output_type": "execute_result",
          "data": {
            "text/plain": [
              "0"
            ]
          },
          "metadata": {},
          "execution_count": 29
        }
      ],
      "source": [
        "# Check rows for objects with the value of 'nan'\n",
        "df.eq('nan', axis=0).sum().sum()"
      ]
    },
    {
      "cell_type": "code",
      "execution_count": null,
      "metadata": {
        "id": "aa8jCd6cG3zI",
        "colab": {
          "base_uri": "https://localhost:8080/"
        },
        "outputId": "97da396f-6ad2-4b27-93e3-faf87d2440ef"
      },
      "outputs": [
        {
          "output_type": "execute_result",
          "data": {
            "text/plain": [
              "0"
            ]
          },
          "metadata": {},
          "execution_count": 30
        }
      ],
      "source": [
        "# Check rows for opbjects with the value of 'NA'\n",
        "df.eq('n/a', axis=0).sum().sum()"
      ]
    },
    {
      "cell_type": "code",
      "source": [
        ""
      ],
      "metadata": {
        "id": "rfoW93gAo_fA"
      },
      "execution_count": null,
      "outputs": []
    },
    {
      "cell_type": "markdown",
      "source": [
        "# Create Dependent Variable"
      ],
      "metadata": {
        "id": "IM3qa8dGg0gY"
      }
    },
    {
      "cell_type": "code",
      "execution_count": null,
      "metadata": {
        "id": "TQOdMOtnG3zL",
        "colab": {
          "base_uri": "https://localhost:8080/"
        },
        "outputId": "3f7146d4-0e03-4b01-cfc7-e0f458f74892"
      },
      "outputs": [
        {
          "output_type": "execute_result",
          "data": {
            "text/plain": [
              "0          0.002956\n",
              "1          0.002956\n",
              "2          0.002956\n",
              "3          0.002956\n",
              "4          0.002956\n",
              "             ...   \n",
              "1563433    0.014197\n",
              "1563434    0.011277\n",
              "1563435    0.007609\n",
              "1563436    0.007609\n",
              "1563437    0.007609\n",
              "Name: MEDHHINC_DIFF_PCT, Length: 1523845, dtype: float64"
            ]
          },
          "metadata": {},
          "execution_count": 31
        }
      ],
      "source": [
        "# Create Dependent Variable (DV) - Difference between Median Houshold Income from 2019 to 2020 as a percentage\n",
        "# Finding the Dependent Variable (DV): Overview (2020-2019)/2019\n",
        "\n",
        "df['MEDHHINC_DIFF_RAW'] = df['20_MEDHHINC'] - df['19_MEDHHINC']\n",
        "df['MEDHHINC_DIFF_PCT'] = df['MEDHHINC_DIFF_RAW']/df['19_MEDHHINC']\n",
        "df['MEDHHINC_DIFF_PCT']"
      ]
    },
    {
      "cell_type": "code",
      "source": [
        "# Check for infinity values in the DV\n",
        "count = np.isinf(df['MEDHHINC_DIFF_PCT']).values.sum()\n",
        "count"
      ],
      "metadata": {
        "colab": {
          "base_uri": "https://localhost:8080/"
        },
        "id": "BEnaf6CxpFg4",
        "outputId": "5afe42ab-42ed-4ee5-88df-d96003144b7d"
      },
      "execution_count": null,
      "outputs": [
        {
          "output_type": "execute_result",
          "data": {
            "text/plain": [
              "129"
            ]
          },
          "metadata": {},
          "execution_count": 137
        }
      ]
    },
    {
      "cell_type": "code",
      "source": [
        "# Convert infinity values to NULL Values \n",
        "df.replace([np.inf, -np.inf], np.nan, inplace=True)"
      ],
      "metadata": {
        "id": "KGEXia1_pR_B"
      },
      "execution_count": null,
      "outputs": []
    },
    {
      "cell_type": "code",
      "execution_count": null,
      "metadata": {
        "id": "PYEuuVrJG3zM",
        "colab": {
          "base_uri": "https://localhost:8080/"
        },
        "outputId": "0565553f-9d1f-450f-f2d9-68a51373cb47"
      },
      "outputs": [
        {
          "output_type": "execute_result",
          "data": {
            "text/plain": [
              "ZIP_CODE               0\n",
              "ZIP4                   0\n",
              "20_POP20               0\n",
              "20_HH20                0\n",
              "20_POPGROW20           0\n",
              "20_AVGHHSIZE           0\n",
              "20_MEDAGHHER           0\n",
              "20_MEDRENT             0\n",
              "20_MEDVALOCC           0\n",
              "20_MEDVEHICLE          0\n",
              "20_MEDHHINC            0\n",
              "20_AVGHHINC            0\n",
              "20_PERCAPINC           0\n",
              "20_MEDAGE              0\n",
              "20_PCTHH200P           0\n",
              "20_HHHINCAVG           0\n",
              "19_POP19               0\n",
              "19_HH19                0\n",
              "19_POPGROW19           0\n",
              "19_MEDVEHICLE          0\n",
              "19_MEDAGE              0\n",
              "19_PCTOOHH             0\n",
              "19_PCTWHPOP            0\n",
              "19_PCTBLPOP            0\n",
              "19_PCTHISPOP           0\n",
              "19_PCTWNHPOP           0\n",
              "19_PCTGRADDEG          0\n",
              "19_PCTWHCOL            0\n",
              "19_PCTSPARC            0\n",
              "19_CASH_EDU            0\n",
              "19_HEALTHINS           0\n",
              "19_MEDHHINC            0\n",
              "19_MEDAGHHER           0\n",
              "MEDHHINC_DIFF_RAW      0\n",
              "MEDHHINC_DIFF_PCT    129\n",
              "FULL_ZIP               0\n",
              "dtype: int64"
            ]
          },
          "metadata": {},
          "execution_count": 139
        }
      ],
      "source": [
        "# Check for nulls in the DV\n",
        "df.isnull().sum()"
      ]
    },
    {
      "cell_type": "code",
      "execution_count": null,
      "metadata": {
        "id": "DpegMqmjG3zM"
      },
      "outputs": [],
      "source": [
        "# Drop Nulls in the DV\n",
        "df.dropna(axis = 0, how = 'any', inplace=True)"
      ]
    },
    {
      "cell_type": "code",
      "execution_count": null,
      "metadata": {
        "id": "_TEiSzuiG3zN",
        "colab": {
          "base_uri": "https://localhost:8080/"
        },
        "outputId": "33d99dd5-54a4-4413-f74e-403248c46cba"
      },
      "outputs": [
        {
          "output_type": "execute_result",
          "data": {
            "text/plain": [
              "0"
            ]
          },
          "metadata": {},
          "execution_count": 141
        }
      ],
      "source": [
        "# Verify nulls were dropped\n",
        "df.isnull().sum().sum()"
      ]
    },
    {
      "cell_type": "code",
      "source": [
        "# # Round the 'MEDHHINC_DIFF_PCT' to 6 decimals https://datatofish.com/round-values-pandas-dataframe/\n",
        "# df['MEDHHINC_DIFF_PCT'].round(decimals = 6)"
      ],
      "metadata": {
        "colab": {
          "base_uri": "https://localhost:8080/"
        },
        "id": "owb18T_XczAx",
        "outputId": "64867b76-22ea-4ecc-a921-333d99f3f7ea"
      },
      "execution_count": null,
      "outputs": [
        {
          "output_type": "execute_result",
          "data": {
            "text/plain": [
              "0          0.002956\n",
              "1          0.002956\n",
              "2          0.002956\n",
              "3          0.002956\n",
              "4          0.002956\n",
              "             ...   \n",
              "1563433    0.014197\n",
              "1563434    0.011277\n",
              "1563435    0.007609\n",
              "1563436    0.007609\n",
              "1563437    0.007609\n",
              "Name: MEDHHINC_DIFF_PCT, Length: 1523020, dtype: float64"
            ]
          },
          "metadata": {},
          "execution_count": 67
        }
      ]
    },
    {
      "cell_type": "markdown",
      "source": [
        "# Transforming with Zip Codes"
      ],
      "metadata": {
        "id": "tS0IJtiwfZzv"
      }
    },
    {
      "cell_type": "code",
      "execution_count": null,
      "metadata": {
        "colab": {
          "base_uri": "https://localhost:8080/"
        },
        "outputId": "39d670df-b7f1-4afd-ea60-3164243234f2",
        "id": "pqkcZUxGjn9l"
      },
      "outputs": [
        {
          "output_type": "execute_result",
          "data": {
            "text/plain": [
              "ZIP_CODE              object\n",
              "ZIP4                  object\n",
              "20_POP20             float64\n",
              "20_HH20              float64\n",
              "20_POPGROW20         float64\n",
              "20_AVGHHSIZE         float64\n",
              "20_MEDAGHHER         float64\n",
              "20_MEDRENT             int64\n",
              "20_MEDVALOCC           int64\n",
              "20_MEDVEHICLE        float64\n",
              "20_MEDHHINC            int64\n",
              "20_AVGHHINC            int64\n",
              "20_PERCAPINC           int64\n",
              "20_MEDAGE            float64\n",
              "20_PCTHH200P         float64\n",
              "20_HHHINCAVG           int64\n",
              "19_POP19             float64\n",
              "19_HH19              float64\n",
              "19_POPGROW19         float64\n",
              "19_MEDVEHICLE        float64\n",
              "19_MEDAGE            float64\n",
              "19_PCTOOHH           float64\n",
              "19_PCTWHPOP          float64\n",
              "19_PCTBLPOP          float64\n",
              "19_PCTHISPOP         float64\n",
              "19_PCTWNHPOP         float64\n",
              "19_PCTGRADDEG        float64\n",
              "19_PCTWHCOL          float64\n",
              "19_PCTSPARC          float64\n",
              "19_CASH_EDU          float64\n",
              "19_HEALTHINS         float64\n",
              "19_MEDHHINC            int64\n",
              "19_MEDAGHHER         float64\n",
              "MEDHHINC_DIFF_RAW      int64\n",
              "MEDHHINC_DIFF_PCT    float64\n",
              "FULL_ZIP              object\n",
              "dtype: object"
            ]
          },
          "metadata": {},
          "execution_count": 142
        }
      ],
      "source": [
        "# Verify column data types\n",
        "df.dtypes"
      ]
    },
    {
      "cell_type": "code",
      "source": [
        "# Convert 'ZIP_CODE' and 'ZIP4' from int64 to string\n",
        "df['ZIP_CODE'] = df['ZIP_CODE'].astype(str)\n",
        "df['ZIP4'] = df['ZIP4'].astype(str)"
      ],
      "metadata": {
        "id": "9Fz83hEpk4L0"
      },
      "execution_count": null,
      "outputs": []
    },
    {
      "cell_type": "code",
      "execution_count": null,
      "metadata": {
        "id": "aW0Mr1olG3zN"
      },
      "outputs": [],
      "source": [
        "# Have all variables in ZIP_CODE have 5 numbers (insert zeros where needed)\n",
        "df['ZIP_CODE'] = df.ZIP_CODE.str.pad(5,side='left', fillchar = '0')"
      ]
    },
    {
      "cell_type": "code",
      "execution_count": null,
      "metadata": {
        "id": "JH_qBFnBG3zN",
        "colab": {
          "base_uri": "https://localhost:8080/",
          "height": 488
        },
        "outputId": "40e5d591-9146-4e90-c40d-4d84eba310ca"
      },
      "outputs": [
        {
          "output_type": "execute_result",
          "data": {
            "text/plain": [
              "        ZIP_CODE  ZIP4  20_POP20  20_HH20  20_POPGROW20  20_AVGHHSIZE  \\\n",
              "0          27006  0001      96.1     37.6          3.44          2.56   \n",
              "1          27006  0121      58.0     22.7          3.44          2.56   \n",
              "2          27006  0201      81.2     31.7          3.44          2.56   \n",
              "3          27006  0316      77.9     30.4          3.44          2.56   \n",
              "4          27006  0476      77.9     30.4          3.44          2.56   \n",
              "...          ...   ...       ...      ...           ...           ...   \n",
              "1563433    30559  2385       2.6      1.1          7.75          2.26   \n",
              "1563434    30559  3096       2.3      1.0         13.13          2.36   \n",
              "1563435    30559  9000       1.9      0.8         12.37          2.32   \n",
              "1563436    30559  9200       1.9      0.8         12.37          2.32   \n",
              "1563437    30559  9201       1.9      0.8         12.37          2.32   \n",
              "\n",
              "         20_MEDAGHHER  20_MEDRENT  20_MEDVALOCC  20_MEDVEHICLE  ...  \\\n",
              "0                55.1         833        273458            2.6  ...   \n",
              "1                55.1         833        273458            2.6  ...   \n",
              "2                55.1         833        273458            2.6  ...   \n",
              "3                55.1         833        273458            2.6  ...   \n",
              "4                55.1         833        273458            2.6  ...   \n",
              "...               ...         ...           ...            ...  ...   \n",
              "1563433          60.4         228        130226            2.4  ...   \n",
              "1563434          59.7         293        165705            2.6  ...   \n",
              "1563435          61.8         689        152497            2.5  ...   \n",
              "1563436          61.8         689        152497            2.5  ...   \n",
              "1563437          61.8         689        152497            2.5  ...   \n",
              "\n",
              "         19_PCTGRADDEG  19_PCTWHCOL  19_PCTSPARC  19_CASH_EDU  19_HEALTHINS  \\\n",
              "0                23.26        43.95         7.50         83.9        4165.7   \n",
              "1                23.26        43.95         7.50         83.9        4165.7   \n",
              "2                23.26        43.95         7.50         83.9        4165.7   \n",
              "3                23.26        43.95         7.50         83.9        4165.7   \n",
              "4                23.26        43.95         7.50         83.9        4165.7   \n",
              "...                ...          ...          ...          ...           ...   \n",
              "1563433           9.67        20.30         5.66         30.7        3761.1   \n",
              "1563434           4.04        17.35         7.36         41.6        3826.5   \n",
              "1563435           8.24        21.25         5.23         34.6        3726.1   \n",
              "1563436           8.24        21.25         5.23         34.6        3726.1   \n",
              "1563437           8.24        21.25         5.23         34.6        3726.1   \n",
              "\n",
              "         19_MEDHHINC  19_MEDAGHHER  MEDHHINC_DIFF_RAW  MEDHHINC_DIFF_PCT  \\\n",
              "0             112300          54.1                332           0.002956   \n",
              "1             112300          54.1                332           0.002956   \n",
              "2             112300          54.1                332           0.002956   \n",
              "3             112300          54.1                332           0.002956   \n",
              "4             112300          54.1                332           0.002956   \n",
              "...              ...           ...                ...                ...   \n",
              "1563433        57335          60.1                814           0.014197   \n",
              "1563434        55070          59.0                621           0.011277   \n",
              "1563435        41924          60.8                319           0.007609   \n",
              "1563436        41924          60.8                319           0.007609   \n",
              "1563437        41924          60.8                319           0.007609   \n",
              "\n",
              "          FULL_ZIP  \n",
              "0        270060001  \n",
              "1        270060121  \n",
              "2        270060201  \n",
              "3        270060316  \n",
              "4        270060476  \n",
              "...            ...  \n",
              "1563433  305592385  \n",
              "1563434  305593096  \n",
              "1563435  305599000  \n",
              "1563436  305599200  \n",
              "1563437  305599201  \n",
              "\n",
              "[1522891 rows x 36 columns]"
            ],
            "text/html": [
              "\n",
              "  <div id=\"df-c86eda47-50f6-4606-b0dd-e717513e6aa8\">\n",
              "    <div class=\"colab-df-container\">\n",
              "      <div>\n",
              "<style scoped>\n",
              "    .dataframe tbody tr th:only-of-type {\n",
              "        vertical-align: middle;\n",
              "    }\n",
              "\n",
              "    .dataframe tbody tr th {\n",
              "        vertical-align: top;\n",
              "    }\n",
              "\n",
              "    .dataframe thead th {\n",
              "        text-align: right;\n",
              "    }\n",
              "</style>\n",
              "<table border=\"1\" class=\"dataframe\">\n",
              "  <thead>\n",
              "    <tr style=\"text-align: right;\">\n",
              "      <th></th>\n",
              "      <th>ZIP_CODE</th>\n",
              "      <th>ZIP4</th>\n",
              "      <th>20_POP20</th>\n",
              "      <th>20_HH20</th>\n",
              "      <th>20_POPGROW20</th>\n",
              "      <th>20_AVGHHSIZE</th>\n",
              "      <th>20_MEDAGHHER</th>\n",
              "      <th>20_MEDRENT</th>\n",
              "      <th>20_MEDVALOCC</th>\n",
              "      <th>20_MEDVEHICLE</th>\n",
              "      <th>...</th>\n",
              "      <th>19_PCTGRADDEG</th>\n",
              "      <th>19_PCTWHCOL</th>\n",
              "      <th>19_PCTSPARC</th>\n",
              "      <th>19_CASH_EDU</th>\n",
              "      <th>19_HEALTHINS</th>\n",
              "      <th>19_MEDHHINC</th>\n",
              "      <th>19_MEDAGHHER</th>\n",
              "      <th>MEDHHINC_DIFF_RAW</th>\n",
              "      <th>MEDHHINC_DIFF_PCT</th>\n",
              "      <th>FULL_ZIP</th>\n",
              "    </tr>\n",
              "  </thead>\n",
              "  <tbody>\n",
              "    <tr>\n",
              "      <th>0</th>\n",
              "      <td>27006</td>\n",
              "      <td>0001</td>\n",
              "      <td>96.1</td>\n",
              "      <td>37.6</td>\n",
              "      <td>3.44</td>\n",
              "      <td>2.56</td>\n",
              "      <td>55.1</td>\n",
              "      <td>833</td>\n",
              "      <td>273458</td>\n",
              "      <td>2.6</td>\n",
              "      <td>...</td>\n",
              "      <td>23.26</td>\n",
              "      <td>43.95</td>\n",
              "      <td>7.50</td>\n",
              "      <td>83.9</td>\n",
              "      <td>4165.7</td>\n",
              "      <td>112300</td>\n",
              "      <td>54.1</td>\n",
              "      <td>332</td>\n",
              "      <td>0.002956</td>\n",
              "      <td>270060001</td>\n",
              "    </tr>\n",
              "    <tr>\n",
              "      <th>1</th>\n",
              "      <td>27006</td>\n",
              "      <td>0121</td>\n",
              "      <td>58.0</td>\n",
              "      <td>22.7</td>\n",
              "      <td>3.44</td>\n",
              "      <td>2.56</td>\n",
              "      <td>55.1</td>\n",
              "      <td>833</td>\n",
              "      <td>273458</td>\n",
              "      <td>2.6</td>\n",
              "      <td>...</td>\n",
              "      <td>23.26</td>\n",
              "      <td>43.95</td>\n",
              "      <td>7.50</td>\n",
              "      <td>83.9</td>\n",
              "      <td>4165.7</td>\n",
              "      <td>112300</td>\n",
              "      <td>54.1</td>\n",
              "      <td>332</td>\n",
              "      <td>0.002956</td>\n",
              "      <td>270060121</td>\n",
              "    </tr>\n",
              "    <tr>\n",
              "      <th>2</th>\n",
              "      <td>27006</td>\n",
              "      <td>0201</td>\n",
              "      <td>81.2</td>\n",
              "      <td>31.7</td>\n",
              "      <td>3.44</td>\n",
              "      <td>2.56</td>\n",
              "      <td>55.1</td>\n",
              "      <td>833</td>\n",
              "      <td>273458</td>\n",
              "      <td>2.6</td>\n",
              "      <td>...</td>\n",
              "      <td>23.26</td>\n",
              "      <td>43.95</td>\n",
              "      <td>7.50</td>\n",
              "      <td>83.9</td>\n",
              "      <td>4165.7</td>\n",
              "      <td>112300</td>\n",
              "      <td>54.1</td>\n",
              "      <td>332</td>\n",
              "      <td>0.002956</td>\n",
              "      <td>270060201</td>\n",
              "    </tr>\n",
              "    <tr>\n",
              "      <th>3</th>\n",
              "      <td>27006</td>\n",
              "      <td>0316</td>\n",
              "      <td>77.9</td>\n",
              "      <td>30.4</td>\n",
              "      <td>3.44</td>\n",
              "      <td>2.56</td>\n",
              "      <td>55.1</td>\n",
              "      <td>833</td>\n",
              "      <td>273458</td>\n",
              "      <td>2.6</td>\n",
              "      <td>...</td>\n",
              "      <td>23.26</td>\n",
              "      <td>43.95</td>\n",
              "      <td>7.50</td>\n",
              "      <td>83.9</td>\n",
              "      <td>4165.7</td>\n",
              "      <td>112300</td>\n",
              "      <td>54.1</td>\n",
              "      <td>332</td>\n",
              "      <td>0.002956</td>\n",
              "      <td>270060316</td>\n",
              "    </tr>\n",
              "    <tr>\n",
              "      <th>4</th>\n",
              "      <td>27006</td>\n",
              "      <td>0476</td>\n",
              "      <td>77.9</td>\n",
              "      <td>30.4</td>\n",
              "      <td>3.44</td>\n",
              "      <td>2.56</td>\n",
              "      <td>55.1</td>\n",
              "      <td>833</td>\n",
              "      <td>273458</td>\n",
              "      <td>2.6</td>\n",
              "      <td>...</td>\n",
              "      <td>23.26</td>\n",
              "      <td>43.95</td>\n",
              "      <td>7.50</td>\n",
              "      <td>83.9</td>\n",
              "      <td>4165.7</td>\n",
              "      <td>112300</td>\n",
              "      <td>54.1</td>\n",
              "      <td>332</td>\n",
              "      <td>0.002956</td>\n",
              "      <td>270060476</td>\n",
              "    </tr>\n",
              "    <tr>\n",
              "      <th>...</th>\n",
              "      <td>...</td>\n",
              "      <td>...</td>\n",
              "      <td>...</td>\n",
              "      <td>...</td>\n",
              "      <td>...</td>\n",
              "      <td>...</td>\n",
              "      <td>...</td>\n",
              "      <td>...</td>\n",
              "      <td>...</td>\n",
              "      <td>...</td>\n",
              "      <td>...</td>\n",
              "      <td>...</td>\n",
              "      <td>...</td>\n",
              "      <td>...</td>\n",
              "      <td>...</td>\n",
              "      <td>...</td>\n",
              "      <td>...</td>\n",
              "      <td>...</td>\n",
              "      <td>...</td>\n",
              "      <td>...</td>\n",
              "      <td>...</td>\n",
              "    </tr>\n",
              "    <tr>\n",
              "      <th>1563433</th>\n",
              "      <td>30559</td>\n",
              "      <td>2385</td>\n",
              "      <td>2.6</td>\n",
              "      <td>1.1</td>\n",
              "      <td>7.75</td>\n",
              "      <td>2.26</td>\n",
              "      <td>60.4</td>\n",
              "      <td>228</td>\n",
              "      <td>130226</td>\n",
              "      <td>2.4</td>\n",
              "      <td>...</td>\n",
              "      <td>9.67</td>\n",
              "      <td>20.30</td>\n",
              "      <td>5.66</td>\n",
              "      <td>30.7</td>\n",
              "      <td>3761.1</td>\n",
              "      <td>57335</td>\n",
              "      <td>60.1</td>\n",
              "      <td>814</td>\n",
              "      <td>0.014197</td>\n",
              "      <td>305592385</td>\n",
              "    </tr>\n",
              "    <tr>\n",
              "      <th>1563434</th>\n",
              "      <td>30559</td>\n",
              "      <td>3096</td>\n",
              "      <td>2.3</td>\n",
              "      <td>1.0</td>\n",
              "      <td>13.13</td>\n",
              "      <td>2.36</td>\n",
              "      <td>59.7</td>\n",
              "      <td>293</td>\n",
              "      <td>165705</td>\n",
              "      <td>2.6</td>\n",
              "      <td>...</td>\n",
              "      <td>4.04</td>\n",
              "      <td>17.35</td>\n",
              "      <td>7.36</td>\n",
              "      <td>41.6</td>\n",
              "      <td>3826.5</td>\n",
              "      <td>55070</td>\n",
              "      <td>59.0</td>\n",
              "      <td>621</td>\n",
              "      <td>0.011277</td>\n",
              "      <td>305593096</td>\n",
              "    </tr>\n",
              "    <tr>\n",
              "      <th>1563435</th>\n",
              "      <td>30559</td>\n",
              "      <td>9000</td>\n",
              "      <td>1.9</td>\n",
              "      <td>0.8</td>\n",
              "      <td>12.37</td>\n",
              "      <td>2.32</td>\n",
              "      <td>61.8</td>\n",
              "      <td>689</td>\n",
              "      <td>152497</td>\n",
              "      <td>2.5</td>\n",
              "      <td>...</td>\n",
              "      <td>8.24</td>\n",
              "      <td>21.25</td>\n",
              "      <td>5.23</td>\n",
              "      <td>34.6</td>\n",
              "      <td>3726.1</td>\n",
              "      <td>41924</td>\n",
              "      <td>60.8</td>\n",
              "      <td>319</td>\n",
              "      <td>0.007609</td>\n",
              "      <td>305599000</td>\n",
              "    </tr>\n",
              "    <tr>\n",
              "      <th>1563436</th>\n",
              "      <td>30559</td>\n",
              "      <td>9200</td>\n",
              "      <td>1.9</td>\n",
              "      <td>0.8</td>\n",
              "      <td>12.37</td>\n",
              "      <td>2.32</td>\n",
              "      <td>61.8</td>\n",
              "      <td>689</td>\n",
              "      <td>152497</td>\n",
              "      <td>2.5</td>\n",
              "      <td>...</td>\n",
              "      <td>8.24</td>\n",
              "      <td>21.25</td>\n",
              "      <td>5.23</td>\n",
              "      <td>34.6</td>\n",
              "      <td>3726.1</td>\n",
              "      <td>41924</td>\n",
              "      <td>60.8</td>\n",
              "      <td>319</td>\n",
              "      <td>0.007609</td>\n",
              "      <td>305599200</td>\n",
              "    </tr>\n",
              "    <tr>\n",
              "      <th>1563437</th>\n",
              "      <td>30559</td>\n",
              "      <td>9201</td>\n",
              "      <td>1.9</td>\n",
              "      <td>0.8</td>\n",
              "      <td>12.37</td>\n",
              "      <td>2.32</td>\n",
              "      <td>61.8</td>\n",
              "      <td>689</td>\n",
              "      <td>152497</td>\n",
              "      <td>2.5</td>\n",
              "      <td>...</td>\n",
              "      <td>8.24</td>\n",
              "      <td>21.25</td>\n",
              "      <td>5.23</td>\n",
              "      <td>34.6</td>\n",
              "      <td>3726.1</td>\n",
              "      <td>41924</td>\n",
              "      <td>60.8</td>\n",
              "      <td>319</td>\n",
              "      <td>0.007609</td>\n",
              "      <td>305599201</td>\n",
              "    </tr>\n",
              "  </tbody>\n",
              "</table>\n",
              "<p>1522891 rows × 36 columns</p>\n",
              "</div>\n",
              "      <button class=\"colab-df-convert\" onclick=\"convertToInteractive('df-c86eda47-50f6-4606-b0dd-e717513e6aa8')\"\n",
              "              title=\"Convert this dataframe to an interactive table.\"\n",
              "              style=\"display:none;\">\n",
              "        \n",
              "  <svg xmlns=\"http://www.w3.org/2000/svg\" height=\"24px\"viewBox=\"0 0 24 24\"\n",
              "       width=\"24px\">\n",
              "    <path d=\"M0 0h24v24H0V0z\" fill=\"none\"/>\n",
              "    <path d=\"M18.56 5.44l.94 2.06.94-2.06 2.06-.94-2.06-.94-.94-2.06-.94 2.06-2.06.94zm-11 1L8.5 8.5l.94-2.06 2.06-.94-2.06-.94L8.5 2.5l-.94 2.06-2.06.94zm10 10l.94 2.06.94-2.06 2.06-.94-2.06-.94-.94-2.06-.94 2.06-2.06.94z\"/><path d=\"M17.41 7.96l-1.37-1.37c-.4-.4-.92-.59-1.43-.59-.52 0-1.04.2-1.43.59L10.3 9.45l-7.72 7.72c-.78.78-.78 2.05 0 2.83L4 21.41c.39.39.9.59 1.41.59.51 0 1.02-.2 1.41-.59l7.78-7.78 2.81-2.81c.8-.78.8-2.07 0-2.86zM5.41 20L4 18.59l7.72-7.72 1.47 1.35L5.41 20z\"/>\n",
              "  </svg>\n",
              "      </button>\n",
              "      \n",
              "  <style>\n",
              "    .colab-df-container {\n",
              "      display:flex;\n",
              "      flex-wrap:wrap;\n",
              "      gap: 12px;\n",
              "    }\n",
              "\n",
              "    .colab-df-convert {\n",
              "      background-color: #E8F0FE;\n",
              "      border: none;\n",
              "      border-radius: 50%;\n",
              "      cursor: pointer;\n",
              "      display: none;\n",
              "      fill: #1967D2;\n",
              "      height: 32px;\n",
              "      padding: 0 0 0 0;\n",
              "      width: 32px;\n",
              "    }\n",
              "\n",
              "    .colab-df-convert:hover {\n",
              "      background-color: #E2EBFA;\n",
              "      box-shadow: 0px 1px 2px rgba(60, 64, 67, 0.3), 0px 1px 3px 1px rgba(60, 64, 67, 0.15);\n",
              "      fill: #174EA6;\n",
              "    }\n",
              "\n",
              "    [theme=dark] .colab-df-convert {\n",
              "      background-color: #3B4455;\n",
              "      fill: #D2E3FC;\n",
              "    }\n",
              "\n",
              "    [theme=dark] .colab-df-convert:hover {\n",
              "      background-color: #434B5C;\n",
              "      box-shadow: 0px 1px 3px 1px rgba(0, 0, 0, 0.15);\n",
              "      filter: drop-shadow(0px 1px 2px rgba(0, 0, 0, 0.3));\n",
              "      fill: #FFFFFF;\n",
              "    }\n",
              "  </style>\n",
              "\n",
              "      <script>\n",
              "        const buttonEl =\n",
              "          document.querySelector('#df-c86eda47-50f6-4606-b0dd-e717513e6aa8 button.colab-df-convert');\n",
              "        buttonEl.style.display =\n",
              "          google.colab.kernel.accessAllowed ? 'block' : 'none';\n",
              "\n",
              "        async function convertToInteractive(key) {\n",
              "          const element = document.querySelector('#df-c86eda47-50f6-4606-b0dd-e717513e6aa8');\n",
              "          const dataTable =\n",
              "            await google.colab.kernel.invokeFunction('convertToInteractive',\n",
              "                                                     [key], {});\n",
              "          if (!dataTable) return;\n",
              "\n",
              "          const docLinkHtml = 'Like what you see? Visit the ' +\n",
              "            '<a target=\"_blank\" href=https://colab.research.google.com/notebooks/data_table.ipynb>data table notebook</a>'\n",
              "            + ' to learn more about interactive tables.';\n",
              "          element.innerHTML = '';\n",
              "          dataTable['output_type'] = 'display_data';\n",
              "          await google.colab.output.renderOutput(dataTable, element);\n",
              "          const docLink = document.createElement('div');\n",
              "          docLink.innerHTML = docLinkHtml;\n",
              "          element.appendChild(docLink);\n",
              "        }\n",
              "      </script>\n",
              "    </div>\n",
              "  </div>\n",
              "  "
            ]
          },
          "metadata": {},
          "execution_count": 145
        }
      ],
      "source": [
        "# Have all variables in ZIP4 have 4 numbers (insert zeros where needed)\n",
        "df['ZIP4'] = df.ZIP4.str.pad(4,side='left', fillchar = '0')\n",
        "df"
      ]
    },
    {
      "cell_type": "code",
      "execution_count": null,
      "metadata": {
        "id": "kR6I7RtfG3zO",
        "colab": {
          "base_uri": "https://localhost:8080/"
        },
        "outputId": "f7cb63f6-a9f0-4daf-9bb1-dbb084310ae9"
      },
      "outputs": [
        {
          "output_type": "execute_result",
          "data": {
            "text/plain": [
              "ZIP_CODE              object\n",
              "ZIP4                  object\n",
              "20_POP20             float64\n",
              "20_HH20              float64\n",
              "20_POPGROW20         float64\n",
              "20_AVGHHSIZE         float64\n",
              "20_MEDAGHHER         float64\n",
              "20_MEDRENT             int64\n",
              "20_MEDVALOCC           int64\n",
              "20_MEDVEHICLE        float64\n",
              "20_MEDHHINC            int64\n",
              "20_AVGHHINC            int64\n",
              "20_PERCAPINC           int64\n",
              "20_MEDAGE            float64\n",
              "20_PCTHH200P         float64\n",
              "20_HHHINCAVG           int64\n",
              "19_POP19             float64\n",
              "19_HH19              float64\n",
              "19_POPGROW19         float64\n",
              "19_MEDVEHICLE        float64\n",
              "19_MEDAGE            float64\n",
              "19_PCTOOHH           float64\n",
              "19_PCTWHPOP          float64\n",
              "19_PCTBLPOP          float64\n",
              "19_PCTHISPOP         float64\n",
              "19_PCTWNHPOP         float64\n",
              "19_PCTGRADDEG        float64\n",
              "19_PCTWHCOL          float64\n",
              "19_PCTSPARC          float64\n",
              "19_CASH_EDU          float64\n",
              "19_HEALTHINS         float64\n",
              "19_MEDHHINC            int64\n",
              "19_MEDAGHHER         float64\n",
              "MEDHHINC_DIFF_RAW      int64\n",
              "MEDHHINC_DIFF_PCT    float64\n",
              "FULL_ZIP              object\n",
              "dtype: object"
            ]
          },
          "metadata": {},
          "execution_count": 146
        }
      ],
      "source": [
        "# Concatenate 'ZIP_CODE' and 'ZIP_4' into column named 'FULL_ZIP'\n",
        "df['FULL_ZIP'] = df['ZIP_CODE'] + df['ZIP4']\n",
        "df.dtypes"
      ]
    },
    {
      "cell_type": "markdown",
      "source": [
        "# EDA - Exploratory Data Analysis"
      ],
      "metadata": {
        "id": "Y4BIClOEYPEu"
      }
    },
    {
      "cell_type": "code",
      "execution_count": null,
      "metadata": {
        "id": "lqBCRu4HG3zO",
        "colab": {
          "base_uri": "https://localhost:8080/",
          "height": 394
        },
        "outputId": "a6e249ee-7363-43da-8a99-bb35f9544fe9"
      },
      "outputs": [
        {
          "output_type": "execute_result",
          "data": {
            "text/plain": [
              "         20_POP20     20_HH20 20_POPGROW20 20_AVGHHSIZE 20_MEDAGHHER  \\\n",
              "count  1522891.00  1522891.00   1522891.00   1522891.00   1522891.00   \n",
              "mean         6.84        2.72         9.32         2.43        52.60   \n",
              "std          7.86        2.30        10.67         0.31         6.54   \n",
              "min          0.10        0.00       -50.00         0.00         0.00   \n",
              "25%          3.30        1.40         0.55         2.26        49.90   \n",
              "50%          5.60        2.20         8.46         2.44        53.80   \n",
              "75%          8.70        3.50        18.97         2.61        56.60   \n",
              "max       5679.00      155.40        42.10         5.35        85.10   \n",
              "\n",
              "       20_MEDRENT 20_MEDVALOCC 20_MEDVEHICLE 20_MEDHHINC 20_AVGHHINC  ...  \\\n",
              "count  1522891.00   1522891.00    1522891.00  1522891.00  1522891.00  ...   \n",
              "mean       605.10    163693.97          2.28    65300.51    80908.73  ...   \n",
              "std        263.29     96937.39          0.33    29192.95    35207.34  ...   \n",
              "min          0.00         0.00          0.00        0.00        0.00  ...   \n",
              "25%        424.00     99796.00          2.10    46355.00    59262.00  ...   \n",
              "50%        566.00    139519.00          2.30    59936.00    72981.00  ...   \n",
              "75%        734.00    197582.00          2.50    76976.00    93013.00  ...   \n",
              "max       2184.00   1174799.00          3.20   346088.00   517611.00  ...   \n",
              "\n",
              "      19_PCTWNHPOP 19_PCTGRADDEG 19_PCTWHCOL 19_PCTSPARC 19_CASH_EDU  \\\n",
              "count   1522891.00    1522891.00  1522891.00  1522891.00  1522891.00   \n",
              "mean         63.51          8.62       29.89       12.00       37.23   \n",
              "std          25.60          8.51       11.91        5.95       22.85   \n",
              "min           0.00          0.00        0.00        0.00        0.00   \n",
              "25%          46.97          2.78       21.46        8.05       23.80   \n",
              "50%          69.33          6.02       27.68       11.00       32.90   \n",
              "75%          84.90         11.77       36.88       14.82       43.40   \n",
              "max         100.00         60.61       71.80       65.86      247.30   \n",
              "\n",
              "      19_HEALTHINS 19_MEDHHINC 19_MEDAGHHER MEDHHINC_DIFF_RAW  \\\n",
              "count   1522891.00  1522891.00   1522891.00        1522891.00   \n",
              "mean       3394.28    64937.32        51.83            363.18   \n",
              "std         492.45    29012.73         6.41           1903.76   \n",
              "min        1617.10    11625.00        16.00        -122071.00   \n",
              "25%        3091.20    46134.00        49.20             71.00   \n",
              "50%        3480.50    59563.00        52.90            362.00   \n",
              "75%        3740.10    76637.00        55.80            635.00   \n",
              "max        4822.80   347011.00        84.60         147734.00   \n",
              "\n",
              "      MEDHHINC_DIFF_PCT  \n",
              "count        1522891.00  \n",
              "mean               0.01  \n",
              "std                0.03  \n",
              "min               -1.00  \n",
              "25%                0.00  \n",
              "50%                0.01  \n",
              "75%                0.01  \n",
              "max                3.21  \n",
              "\n",
              "[8 rows x 33 columns]"
            ],
            "text/html": [
              "\n",
              "  <div id=\"df-2b145d48-82e1-4dee-b20a-a73747336a1c\">\n",
              "    <div class=\"colab-df-container\">\n",
              "      <div>\n",
              "<style scoped>\n",
              "    .dataframe tbody tr th:only-of-type {\n",
              "        vertical-align: middle;\n",
              "    }\n",
              "\n",
              "    .dataframe tbody tr th {\n",
              "        vertical-align: top;\n",
              "    }\n",
              "\n",
              "    .dataframe thead th {\n",
              "        text-align: right;\n",
              "    }\n",
              "</style>\n",
              "<table border=\"1\" class=\"dataframe\">\n",
              "  <thead>\n",
              "    <tr style=\"text-align: right;\">\n",
              "      <th></th>\n",
              "      <th>20_POP20</th>\n",
              "      <th>20_HH20</th>\n",
              "      <th>20_POPGROW20</th>\n",
              "      <th>20_AVGHHSIZE</th>\n",
              "      <th>20_MEDAGHHER</th>\n",
              "      <th>20_MEDRENT</th>\n",
              "      <th>20_MEDVALOCC</th>\n",
              "      <th>20_MEDVEHICLE</th>\n",
              "      <th>20_MEDHHINC</th>\n",
              "      <th>20_AVGHHINC</th>\n",
              "      <th>...</th>\n",
              "      <th>19_PCTWNHPOP</th>\n",
              "      <th>19_PCTGRADDEG</th>\n",
              "      <th>19_PCTWHCOL</th>\n",
              "      <th>19_PCTSPARC</th>\n",
              "      <th>19_CASH_EDU</th>\n",
              "      <th>19_HEALTHINS</th>\n",
              "      <th>19_MEDHHINC</th>\n",
              "      <th>19_MEDAGHHER</th>\n",
              "      <th>MEDHHINC_DIFF_RAW</th>\n",
              "      <th>MEDHHINC_DIFF_PCT</th>\n",
              "    </tr>\n",
              "  </thead>\n",
              "  <tbody>\n",
              "    <tr>\n",
              "      <th>count</th>\n",
              "      <td>1522891.00</td>\n",
              "      <td>1522891.00</td>\n",
              "      <td>1522891.00</td>\n",
              "      <td>1522891.00</td>\n",
              "      <td>1522891.00</td>\n",
              "      <td>1522891.00</td>\n",
              "      <td>1522891.00</td>\n",
              "      <td>1522891.00</td>\n",
              "      <td>1522891.00</td>\n",
              "      <td>1522891.00</td>\n",
              "      <td>...</td>\n",
              "      <td>1522891.00</td>\n",
              "      <td>1522891.00</td>\n",
              "      <td>1522891.00</td>\n",
              "      <td>1522891.00</td>\n",
              "      <td>1522891.00</td>\n",
              "      <td>1522891.00</td>\n",
              "      <td>1522891.00</td>\n",
              "      <td>1522891.00</td>\n",
              "      <td>1522891.00</td>\n",
              "      <td>1522891.00</td>\n",
              "    </tr>\n",
              "    <tr>\n",
              "      <th>mean</th>\n",
              "      <td>6.84</td>\n",
              "      <td>2.72</td>\n",
              "      <td>9.32</td>\n",
              "      <td>2.43</td>\n",
              "      <td>52.60</td>\n",
              "      <td>605.10</td>\n",
              "      <td>163693.97</td>\n",
              "      <td>2.28</td>\n",
              "      <td>65300.51</td>\n",
              "      <td>80908.73</td>\n",
              "      <td>...</td>\n",
              "      <td>63.51</td>\n",
              "      <td>8.62</td>\n",
              "      <td>29.89</td>\n",
              "      <td>12.00</td>\n",
              "      <td>37.23</td>\n",
              "      <td>3394.28</td>\n",
              "      <td>64937.32</td>\n",
              "      <td>51.83</td>\n",
              "      <td>363.18</td>\n",
              "      <td>0.01</td>\n",
              "    </tr>\n",
              "    <tr>\n",
              "      <th>std</th>\n",
              "      <td>7.86</td>\n",
              "      <td>2.30</td>\n",
              "      <td>10.67</td>\n",
              "      <td>0.31</td>\n",
              "      <td>6.54</td>\n",
              "      <td>263.29</td>\n",
              "      <td>96937.39</td>\n",
              "      <td>0.33</td>\n",
              "      <td>29192.95</td>\n",
              "      <td>35207.34</td>\n",
              "      <td>...</td>\n",
              "      <td>25.60</td>\n",
              "      <td>8.51</td>\n",
              "      <td>11.91</td>\n",
              "      <td>5.95</td>\n",
              "      <td>22.85</td>\n",
              "      <td>492.45</td>\n",
              "      <td>29012.73</td>\n",
              "      <td>6.41</td>\n",
              "      <td>1903.76</td>\n",
              "      <td>0.03</td>\n",
              "    </tr>\n",
              "    <tr>\n",
              "      <th>min</th>\n",
              "      <td>0.10</td>\n",
              "      <td>0.00</td>\n",
              "      <td>-50.00</td>\n",
              "      <td>0.00</td>\n",
              "      <td>0.00</td>\n",
              "      <td>0.00</td>\n",
              "      <td>0.00</td>\n",
              "      <td>0.00</td>\n",
              "      <td>0.00</td>\n",
              "      <td>0.00</td>\n",
              "      <td>...</td>\n",
              "      <td>0.00</td>\n",
              "      <td>0.00</td>\n",
              "      <td>0.00</td>\n",
              "      <td>0.00</td>\n",
              "      <td>0.00</td>\n",
              "      <td>1617.10</td>\n",
              "      <td>11625.00</td>\n",
              "      <td>16.00</td>\n",
              "      <td>-122071.00</td>\n",
              "      <td>-1.00</td>\n",
              "    </tr>\n",
              "    <tr>\n",
              "      <th>25%</th>\n",
              "      <td>3.30</td>\n",
              "      <td>1.40</td>\n",
              "      <td>0.55</td>\n",
              "      <td>2.26</td>\n",
              "      <td>49.90</td>\n",
              "      <td>424.00</td>\n",
              "      <td>99796.00</td>\n",
              "      <td>2.10</td>\n",
              "      <td>46355.00</td>\n",
              "      <td>59262.00</td>\n",
              "      <td>...</td>\n",
              "      <td>46.97</td>\n",
              "      <td>2.78</td>\n",
              "      <td>21.46</td>\n",
              "      <td>8.05</td>\n",
              "      <td>23.80</td>\n",
              "      <td>3091.20</td>\n",
              "      <td>46134.00</td>\n",
              "      <td>49.20</td>\n",
              "      <td>71.00</td>\n",
              "      <td>0.00</td>\n",
              "    </tr>\n",
              "    <tr>\n",
              "      <th>50%</th>\n",
              "      <td>5.60</td>\n",
              "      <td>2.20</td>\n",
              "      <td>8.46</td>\n",
              "      <td>2.44</td>\n",
              "      <td>53.80</td>\n",
              "      <td>566.00</td>\n",
              "      <td>139519.00</td>\n",
              "      <td>2.30</td>\n",
              "      <td>59936.00</td>\n",
              "      <td>72981.00</td>\n",
              "      <td>...</td>\n",
              "      <td>69.33</td>\n",
              "      <td>6.02</td>\n",
              "      <td>27.68</td>\n",
              "      <td>11.00</td>\n",
              "      <td>32.90</td>\n",
              "      <td>3480.50</td>\n",
              "      <td>59563.00</td>\n",
              "      <td>52.90</td>\n",
              "      <td>362.00</td>\n",
              "      <td>0.01</td>\n",
              "    </tr>\n",
              "    <tr>\n",
              "      <th>75%</th>\n",
              "      <td>8.70</td>\n",
              "      <td>3.50</td>\n",
              "      <td>18.97</td>\n",
              "      <td>2.61</td>\n",
              "      <td>56.60</td>\n",
              "      <td>734.00</td>\n",
              "      <td>197582.00</td>\n",
              "      <td>2.50</td>\n",
              "      <td>76976.00</td>\n",
              "      <td>93013.00</td>\n",
              "      <td>...</td>\n",
              "      <td>84.90</td>\n",
              "      <td>11.77</td>\n",
              "      <td>36.88</td>\n",
              "      <td>14.82</td>\n",
              "      <td>43.40</td>\n",
              "      <td>3740.10</td>\n",
              "      <td>76637.00</td>\n",
              "      <td>55.80</td>\n",
              "      <td>635.00</td>\n",
              "      <td>0.01</td>\n",
              "    </tr>\n",
              "    <tr>\n",
              "      <th>max</th>\n",
              "      <td>5679.00</td>\n",
              "      <td>155.40</td>\n",
              "      <td>42.10</td>\n",
              "      <td>5.35</td>\n",
              "      <td>85.10</td>\n",
              "      <td>2184.00</td>\n",
              "      <td>1174799.00</td>\n",
              "      <td>3.20</td>\n",
              "      <td>346088.00</td>\n",
              "      <td>517611.00</td>\n",
              "      <td>...</td>\n",
              "      <td>100.00</td>\n",
              "      <td>60.61</td>\n",
              "      <td>71.80</td>\n",
              "      <td>65.86</td>\n",
              "      <td>247.30</td>\n",
              "      <td>4822.80</td>\n",
              "      <td>347011.00</td>\n",
              "      <td>84.60</td>\n",
              "      <td>147734.00</td>\n",
              "      <td>3.21</td>\n",
              "    </tr>\n",
              "  </tbody>\n",
              "</table>\n",
              "<p>8 rows × 33 columns</p>\n",
              "</div>\n",
              "      <button class=\"colab-df-convert\" onclick=\"convertToInteractive('df-2b145d48-82e1-4dee-b20a-a73747336a1c')\"\n",
              "              title=\"Convert this dataframe to an interactive table.\"\n",
              "              style=\"display:none;\">\n",
              "        \n",
              "  <svg xmlns=\"http://www.w3.org/2000/svg\" height=\"24px\"viewBox=\"0 0 24 24\"\n",
              "       width=\"24px\">\n",
              "    <path d=\"M0 0h24v24H0V0z\" fill=\"none\"/>\n",
              "    <path d=\"M18.56 5.44l.94 2.06.94-2.06 2.06-.94-2.06-.94-.94-2.06-.94 2.06-2.06.94zm-11 1L8.5 8.5l.94-2.06 2.06-.94-2.06-.94L8.5 2.5l-.94 2.06-2.06.94zm10 10l.94 2.06.94-2.06 2.06-.94-2.06-.94-.94-2.06-.94 2.06-2.06.94z\"/><path d=\"M17.41 7.96l-1.37-1.37c-.4-.4-.92-.59-1.43-.59-.52 0-1.04.2-1.43.59L10.3 9.45l-7.72 7.72c-.78.78-.78 2.05 0 2.83L4 21.41c.39.39.9.59 1.41.59.51 0 1.02-.2 1.41-.59l7.78-7.78 2.81-2.81c.8-.78.8-2.07 0-2.86zM5.41 20L4 18.59l7.72-7.72 1.47 1.35L5.41 20z\"/>\n",
              "  </svg>\n",
              "      </button>\n",
              "      \n",
              "  <style>\n",
              "    .colab-df-container {\n",
              "      display:flex;\n",
              "      flex-wrap:wrap;\n",
              "      gap: 12px;\n",
              "    }\n",
              "\n",
              "    .colab-df-convert {\n",
              "      background-color: #E8F0FE;\n",
              "      border: none;\n",
              "      border-radius: 50%;\n",
              "      cursor: pointer;\n",
              "      display: none;\n",
              "      fill: #1967D2;\n",
              "      height: 32px;\n",
              "      padding: 0 0 0 0;\n",
              "      width: 32px;\n",
              "    }\n",
              "\n",
              "    .colab-df-convert:hover {\n",
              "      background-color: #E2EBFA;\n",
              "      box-shadow: 0px 1px 2px rgba(60, 64, 67, 0.3), 0px 1px 3px 1px rgba(60, 64, 67, 0.15);\n",
              "      fill: #174EA6;\n",
              "    }\n",
              "\n",
              "    [theme=dark] .colab-df-convert {\n",
              "      background-color: #3B4455;\n",
              "      fill: #D2E3FC;\n",
              "    }\n",
              "\n",
              "    [theme=dark] .colab-df-convert:hover {\n",
              "      background-color: #434B5C;\n",
              "      box-shadow: 0px 1px 3px 1px rgba(0, 0, 0, 0.15);\n",
              "      filter: drop-shadow(0px 1px 2px rgba(0, 0, 0, 0.3));\n",
              "      fill: #FFFFFF;\n",
              "    }\n",
              "  </style>\n",
              "\n",
              "      <script>\n",
              "        const buttonEl =\n",
              "          document.querySelector('#df-2b145d48-82e1-4dee-b20a-a73747336a1c button.colab-df-convert');\n",
              "        buttonEl.style.display =\n",
              "          google.colab.kernel.accessAllowed ? 'block' : 'none';\n",
              "\n",
              "        async function convertToInteractive(key) {\n",
              "          const element = document.querySelector('#df-2b145d48-82e1-4dee-b20a-a73747336a1c');\n",
              "          const dataTable =\n",
              "            await google.colab.kernel.invokeFunction('convertToInteractive',\n",
              "                                                     [key], {});\n",
              "          if (!dataTable) return;\n",
              "\n",
              "          const docLinkHtml = 'Like what you see? Visit the ' +\n",
              "            '<a target=\"_blank\" href=https://colab.research.google.com/notebooks/data_table.ipynb>data table notebook</a>'\n",
              "            + ' to learn more about interactive tables.';\n",
              "          element.innerHTML = '';\n",
              "          dataTable['output_type'] = 'display_data';\n",
              "          await google.colab.output.renderOutput(dataTable, element);\n",
              "          const docLink = document.createElement('div');\n",
              "          docLink.innerHTML = docLinkHtml;\n",
              "          element.appendChild(docLink);\n",
              "        }\n",
              "      </script>\n",
              "    </div>\n",
              "  </div>\n",
              "  "
            ]
          },
          "metadata": {},
          "execution_count": 147
        }
      ],
      "source": [
        "# Descriptive Statistics with all nulls and zeros removed. Removed scientific notation to 2 decimal points.\n",
        "df.describe().apply(lambda s: s.apply('{0:.2f}'.format))"
      ]
    },
    {
      "cell_type": "code",
      "execution_count": null,
      "metadata": {
        "id": "UJ-wfgDvG3zP",
        "colab": {
          "base_uri": "https://localhost:8080/",
          "height": 1000
        },
        "outputId": "2fddc77a-0798-44e0-abd6-1b3aa4291203"
      },
      "outputs": [
        {
          "output_type": "execute_result",
          "data": {
            "text/plain": [
              "                   20_POP20   20_HH20  20_POPGROW20  20_AVGHHSIZE  \\\n",
              "20_POP20           1.000000  0.738973      0.167190      0.169656   \n",
              "20_HH20            0.738973  1.000000      0.210609      0.080951   \n",
              "20_POPGROW20       0.167190  0.210609      1.000000      0.114125   \n",
              "20_AVGHHSIZE       0.169656  0.080951      0.114125      1.000000   \n",
              "20_MEDAGHHER      -0.187598 -0.223684     -0.365373     -0.115758   \n",
              "20_MEDRENT         0.201772  0.260592      0.518829      0.025020   \n",
              "20_MEDVALOCC       0.089439  0.137752      0.416824     -0.116879   \n",
              "20_MEDVEHICLE      0.019668 -0.011742     -0.028794      0.348524   \n",
              "20_MEDHHINC        0.165027  0.197737      0.390353      0.192831   \n",
              "20_AVGHHINC        0.134233  0.167210      0.359061      0.105045   \n",
              "20_PERCAPINC       0.068755  0.136835      0.323315     -0.186712   \n",
              "20_MEDAGE         -0.187697 -0.187068     -0.253789     -0.328361   \n",
              "20_PCTHH200P       0.117154  0.142907      0.331365      0.100190   \n",
              "20_HHHINCAVG       0.005020  0.019754      0.048519     -0.057769   \n",
              "19_POP19           0.991776  0.718466      0.159592      0.165569   \n",
              "19_HH19            0.730202  0.988150      0.203957      0.080389   \n",
              "19_POPGROW19       0.168206  0.212410      0.981328      0.117806   \n",
              "19_MEDVEHICLE      0.021122 -0.009316     -0.023097      0.350441   \n",
              "19_MEDAGE         -0.185175 -0.183497     -0.249171     -0.328409   \n",
              "19_PCTOOHH         0.008591 -0.021911     -0.041539      0.359194   \n",
              "19_PCTWHPOP       -0.027990 -0.010842      0.047613     -0.162648   \n",
              "19_PCTBLPOP        0.009638 -0.003915     -0.088669      0.049307   \n",
              "19_PCTHISPOP       0.069395  0.055584      0.175863      0.310682   \n",
              "19_PCTWNHPOP      -0.040293 -0.023737      0.016047     -0.188534   \n",
              "19_PCTGRADDEG      0.096882  0.159461      0.335878     -0.201192   \n",
              "19_PCTWHCOL        0.176454  0.268850      0.501895     -0.043755   \n",
              "19_PCTSPARC        0.010358 -0.024351     -0.148928      0.318061   \n",
              "19_CASH_EDU        0.118261  0.144299      0.334103      0.123826   \n",
              "19_HEALTHINS       0.027659  0.034248      0.125074      0.111282   \n",
              "19_MEDHHINC        0.164504  0.197344      0.389352      0.190806   \n",
              "19_MEDAGHHER      -0.186290 -0.221707     -0.360184     -0.119221   \n",
              "MEDHHINC_DIFF_RAW  0.023587  0.024700      0.052197      0.049124   \n",
              "MEDHHINC_DIFF_PCT  0.008774  0.006994      0.022702      0.027768   \n",
              "\n",
              "                   20_MEDAGHHER  20_MEDRENT  20_MEDVALOCC  20_MEDVEHICLE  \\\n",
              "20_POP20              -0.187598    0.201772      0.089439       0.019668   \n",
              "20_HH20               -0.223684    0.260592      0.137752      -0.011742   \n",
              "20_POPGROW20          -0.365373    0.518829      0.416824      -0.028794   \n",
              "20_AVGHHSIZE          -0.115758    0.025020     -0.116879       0.348524   \n",
              "20_MEDAGHHER           1.000000   -0.280389     -0.046330       0.215168   \n",
              "20_MEDRENT            -0.280389    1.000000      0.576288       0.060173   \n",
              "20_MEDVALOCC          -0.046330    0.576288      1.000000       0.160196   \n",
              "20_MEDVEHICLE          0.215168    0.060173      0.160196       1.000000   \n",
              "20_MEDHHINC           -0.028874    0.600090      0.727752       0.419561   \n",
              "20_AVGHHINC            0.013102    0.580958      0.792234       0.364705   \n",
              "20_PERCAPINC           0.038538    0.555794      0.802280       0.228678   \n",
              "20_MEDAGE              0.868749   -0.111691      0.168368       0.246731   \n",
              "20_PCTHH200P           0.000547    0.537999      0.788972       0.237786   \n",
              "20_HHHINCAVG           0.060207    0.116908      0.207691       0.139433   \n",
              "19_POP19              -0.182567    0.196688      0.087407       0.019606   \n",
              "19_HH19               -0.221560    0.258109      0.136489      -0.011933   \n",
              "19_POPGROW19          -0.372736    0.528895      0.424941      -0.027233   \n",
              "19_MEDVEHICLE          0.221953    0.061523      0.163792       0.987679   \n",
              "19_MEDAGE              0.866542   -0.105309      0.175203       0.253121   \n",
              "19_PCTOOHH             0.497619    0.061918      0.188805       0.738619   \n",
              "19_PCTWHPOP            0.280379    0.156119      0.402761       0.523189   \n",
              "19_PCTBLPOP           -0.171552   -0.175108     -0.383416      -0.516817   \n",
              "19_PCTHISPOP          -0.326212   -0.037382     -0.225221      -0.216879   \n",
              "19_PCTWNHPOP           0.315167    0.139665      0.400526       0.526714   \n",
              "19_PCTGRADDEG         -0.153928    0.535810      0.724475       0.020018   \n",
              "19_PCTWHCOL           -0.332436    0.587258      0.610598       0.181405   \n",
              "19_PCTSPARC           -0.186650   -0.335576     -0.551727      -0.423624   \n",
              "19_CASH_EDU            0.040498    0.546722      0.778046       0.396581   \n",
              "19_HEALTHINS           0.385700    0.287004      0.517647       0.672616   \n",
              "19_MEDHHINC           -0.028730    0.599172      0.727817       0.418531   \n",
              "19_MEDAGHHER           0.995603   -0.271847     -0.034633       0.218535   \n",
              "MEDHHINC_DIFF_RAW     -0.004918    0.070796      0.067900       0.055416   \n",
              "MEDHHINC_DIFF_PCT     -0.006920    0.016945      0.003939       0.013257   \n",
              "\n",
              "                   20_MEDHHINC  20_AVGHHINC  ...  19_PCTWNHPOP  19_PCTGRADDEG  \\\n",
              "20_POP20              0.165027     0.134233  ...     -0.040293       0.096882   \n",
              "20_HH20               0.197737     0.167210  ...     -0.023737       0.159461   \n",
              "20_POPGROW20          0.390353     0.359061  ...      0.016047       0.335878   \n",
              "20_AVGHHSIZE          0.192831     0.105045  ...     -0.188534      -0.201192   \n",
              "20_MEDAGHHER         -0.028874     0.013102  ...      0.315167      -0.153928   \n",
              "20_MEDRENT            0.600090     0.580958  ...      0.139665       0.535810   \n",
              "20_MEDVALOCC          0.727752     0.792234  ...      0.400526       0.724475   \n",
              "20_MEDVEHICLE         0.419561     0.364705  ...      0.526714       0.020018   \n",
              "20_MEDHHINC           1.000000     0.929933  ...      0.402419       0.622205   \n",
              "20_AVGHHINC           0.929933     1.000000  ...      0.415513       0.675332   \n",
              "20_PERCAPINC          0.826296     0.934129  ...      0.441370       0.708688   \n",
              "20_MEDAGE             0.127225     0.178359  ...      0.489084       0.058894   \n",
              "20_PCTHH200P          0.853332     0.904336  ...      0.313873       0.693291   \n",
              "20_HHHINCAVG          0.171852     0.340188  ...      0.195167       0.171373   \n",
              "19_POP19              0.161180     0.131144  ...     -0.039473       0.094396   \n",
              "19_HH19               0.195631     0.165458  ...     -0.024199       0.158375   \n",
              "19_POPGROW19          0.400169     0.370422  ...      0.007571       0.349678   \n",
              "19_MEDVEHICLE         0.425512     0.370106  ...      0.542221       0.023234   \n",
              "19_MEDAGE             0.136534     0.187415  ...      0.501009       0.065408   \n",
              "19_PCTOOHH            0.481385     0.437489  ...      0.560803       0.056136   \n",
              "19_PCTWHPOP           0.404755     0.415668  ...      0.993354       0.252205   \n",
              "19_PCTBLPOP          -0.383917    -0.393105  ...     -0.891375      -0.266652   \n",
              "19_PCTHISPOP         -0.234590    -0.246952  ...     -0.462969      -0.193315   \n",
              "19_PCTWNHPOP          0.402419     0.415513  ...      1.000000       0.252687   \n",
              "19_PCTGRADDEG         0.622205     0.675332  ...      0.252687       1.000000   \n",
              "19_PCTWHCOL           0.708903     0.684195  ...      0.243742       0.665295   \n",
              "19_PCTSPARC          -0.533615    -0.554223  ...     -0.747328      -0.496080   \n",
              "19_CASH_EDU           0.897542     0.911433  ...      0.532616       0.678112   \n",
              "19_HEALTHINS          0.691333     0.675856  ...      0.842128       0.357446   \n",
              "19_MEDHHINC           0.997880     0.929264  ...      0.404252       0.623601   \n",
              "19_MEDAGHHER         -0.017862     0.024133  ...      0.326018      -0.144823   \n",
              "MEDHHINC_DIFF_RAW     0.126981     0.098230  ...      0.010154       0.037635   \n",
              "MEDHHINC_DIFF_PCT     0.034230     0.013451  ...     -0.027543      -0.017143   \n",
              "\n",
              "                   19_PCTWHCOL  19_PCTSPARC  19_CASH_EDU  19_HEALTHINS  \\\n",
              "20_POP20              0.176454     0.010358     0.118261      0.027659   \n",
              "20_HH20               0.268850    -0.024351     0.144299      0.034248   \n",
              "20_POPGROW20          0.501895    -0.148928     0.334103      0.125074   \n",
              "20_AVGHHSIZE         -0.043755     0.318061     0.123826      0.111282   \n",
              "20_MEDAGHHER         -0.332436    -0.186650     0.040498      0.385700   \n",
              "20_MEDRENT            0.587258    -0.335576     0.546722      0.287004   \n",
              "20_MEDVALOCC          0.610598    -0.551727     0.778046      0.517647   \n",
              "20_MEDVEHICLE         0.181405    -0.423624     0.396581      0.672616   \n",
              "20_MEDHHINC           0.708903    -0.533615     0.897542      0.691333   \n",
              "20_AVGHHINC           0.684195    -0.554223     0.911433      0.675856   \n",
              "20_PERCAPINC          0.677379    -0.610246     0.826179      0.607488   \n",
              "20_MEDAGE            -0.136879    -0.451884     0.199719      0.504405   \n",
              "20_PCTHH200P          0.619520    -0.461085     0.930371      0.558205   \n",
              "20_HHHINCAVG          0.166807    -0.219914     0.199948      0.224402   \n",
              "19_POP19              0.171774     0.010629     0.115794      0.027312   \n",
              "19_HH19               0.265905    -0.023454     0.142933      0.033306   \n",
              "19_POPGROW19          0.514230    -0.150594     0.343644      0.125501   \n",
              "19_MEDVEHICLE         0.181212    -0.431685     0.406655      0.687886   \n",
              "19_MEDAGE            -0.126080    -0.462781     0.211945      0.518470   \n",
              "19_PCTOOHH            0.156692    -0.464228     0.468316      0.804286   \n",
              "19_PCTWHPOP           0.251919    -0.742867     0.536108      0.844520   \n",
              "19_PCTBLPOP          -0.266465     0.706893    -0.561665     -0.839504   \n",
              "19_PCTHISPOP         -0.146093     0.383170    -0.257813     -0.338539   \n",
              "19_PCTWNHPOP          0.243742    -0.747328     0.532616      0.842128   \n",
              "19_PCTGRADDEG         0.665295    -0.496080     0.678112      0.357446   \n",
              "19_PCTWHCOL           1.000000    -0.455360     0.647792      0.396333   \n",
              "19_PCTSPARC          -0.455360     1.000000    -0.613156     -0.741354   \n",
              "19_CASH_EDU           0.647792    -0.613156     1.000000      0.763606   \n",
              "19_HEALTHINS          0.396333    -0.741354     0.763606      1.000000   \n",
              "19_MEDHHINC           0.710443    -0.535520     0.899662      0.693442   \n",
              "19_MEDAGHHER         -0.327858    -0.198025     0.052991      0.397832   \n",
              "MEDHHINC_DIFF_RAW     0.043638    -0.021484     0.052660      0.033313   \n",
              "MEDHHINC_DIFF_PCT    -0.023897     0.031585    -0.023936     -0.033037   \n",
              "\n",
              "                   19_MEDHHINC  19_MEDAGHHER  MEDHHINC_DIFF_RAW  \\\n",
              "20_POP20              0.164504     -0.186290           0.023587   \n",
              "20_HH20               0.197344     -0.221707           0.024700   \n",
              "20_POPGROW20          0.389352     -0.360184           0.052197   \n",
              "20_AVGHHSIZE          0.190806     -0.119221           0.049124   \n",
              "20_MEDAGHHER         -0.028730      0.995603          -0.004918   \n",
              "20_MEDRENT            0.599172     -0.271847           0.070796   \n",
              "20_MEDVALOCC          0.727817     -0.034633           0.067900   \n",
              "20_MEDVEHICLE         0.418531      0.218535           0.055416   \n",
              "20_MEDHHINC           0.997880     -0.017862           0.126981   \n",
              "20_AVGHHINC           0.929264      0.024133           0.098230   \n",
              "20_PERCAPINC          0.826427      0.049798           0.076233   \n",
              "20_MEDAGE             0.126981      0.877707           0.015765   \n",
              "20_PCTHH200P          0.853071      0.010252           0.084762   \n",
              "20_HHHINCAVG          0.172493      0.062337           0.006500   \n",
              "19_POP19              0.160734     -0.181530           0.022058   \n",
              "19_HH19               0.195161     -0.219906           0.025682   \n",
              "19_POPGROW19          0.399252     -0.367465           0.051858   \n",
              "19_MEDVEHICLE         0.425722      0.226233           0.037079   \n",
              "19_MEDAGE             0.138137      0.879476          -0.011511   \n",
              "19_PCTOOHH            0.482705      0.506185           0.025456   \n",
              "19_PCTWHPOP           0.406512      0.291141           0.011538   \n",
              "19_PCTBLPOP          -0.384967     -0.178779          -0.020332   \n",
              "19_PCTHISPOP         -0.236099     -0.334859           0.000794   \n",
              "19_PCTWNHPOP          0.404252      0.326018           0.010154   \n",
              "19_PCTGRADDEG         0.623601     -0.144823           0.037635   \n",
              "19_PCTWHCOL           0.710443     -0.327858           0.043638   \n",
              "19_PCTSPARC          -0.535520     -0.198025          -0.021484   \n",
              "19_CASH_EDU           0.899662      0.052991           0.052660   \n",
              "19_HEALTHINS          0.693442      0.397832           0.033313   \n",
              "19_MEDHHINC           1.000000     -0.016263           0.062151   \n",
              "19_MEDAGHHER         -0.016263      1.000000          -0.026063   \n",
              "MEDHHINC_DIFF_RAW     0.062151     -0.026063           1.000000   \n",
              "MEDHHINC_DIFF_PCT    -0.021539     -0.028900           0.853155   \n",
              "\n",
              "                   MEDHHINC_DIFF_PCT  \n",
              "20_POP20                    0.008774  \n",
              "20_HH20                     0.006994  \n",
              "20_POPGROW20                0.022702  \n",
              "20_AVGHHSIZE                0.027768  \n",
              "20_MEDAGHHER               -0.006920  \n",
              "20_MEDRENT                  0.016945  \n",
              "20_MEDVALOCC                0.003939  \n",
              "20_MEDVEHICLE               0.013257  \n",
              "20_MEDHHINC                 0.034230  \n",
              "20_AVGHHINC                 0.013451  \n",
              "20_PERCAPINC                0.003827  \n",
              "20_MEDAGE                   0.001784  \n",
              "20_PCTHH200P                0.006061  \n",
              "20_HHHINCAVG               -0.012550  \n",
              "19_POP19                    0.008557  \n",
              "19_HH19                     0.008411  \n",
              "19_POPGROW19                0.021665  \n",
              "19_MEDVEHICLE              -0.005236  \n",
              "19_MEDAGE                  -0.026657  \n",
              "19_PCTOOHH                 -0.024694  \n",
              "19_PCTWHPOP                -0.026738  \n",
              "19_PCTBLPOP                 0.017576  \n",
              "19_PCTHISPOP                0.021587  \n",
              "19_PCTWNHPOP               -0.027543  \n",
              "19_PCTGRADDEG              -0.017143  \n",
              "19_PCTWHCOL                -0.023897  \n",
              "19_PCTSPARC                 0.031585  \n",
              "19_CASH_EDU                -0.023936  \n",
              "19_HEALTHINS               -0.033037  \n",
              "19_MEDHHINC                -0.021539  \n",
              "19_MEDAGHHER               -0.028900  \n",
              "MEDHHINC_DIFF_RAW           0.853155  \n",
              "MEDHHINC_DIFF_PCT           1.000000  \n",
              "\n",
              "[33 rows x 33 columns]"
            ],
            "text/html": [
              "\n",
              "  <div id=\"df-f90b0062-34ec-46c9-8149-bea3e43bda78\">\n",
              "    <div class=\"colab-df-container\">\n",
              "      <div>\n",
              "<style scoped>\n",
              "    .dataframe tbody tr th:only-of-type {\n",
              "        vertical-align: middle;\n",
              "    }\n",
              "\n",
              "    .dataframe tbody tr th {\n",
              "        vertical-align: top;\n",
              "    }\n",
              "\n",
              "    .dataframe thead th {\n",
              "        text-align: right;\n",
              "    }\n",
              "</style>\n",
              "<table border=\"1\" class=\"dataframe\">\n",
              "  <thead>\n",
              "    <tr style=\"text-align: right;\">\n",
              "      <th></th>\n",
              "      <th>20_POP20</th>\n",
              "      <th>20_HH20</th>\n",
              "      <th>20_POPGROW20</th>\n",
              "      <th>20_AVGHHSIZE</th>\n",
              "      <th>20_MEDAGHHER</th>\n",
              "      <th>20_MEDRENT</th>\n",
              "      <th>20_MEDVALOCC</th>\n",
              "      <th>20_MEDVEHICLE</th>\n",
              "      <th>20_MEDHHINC</th>\n",
              "      <th>20_AVGHHINC</th>\n",
              "      <th>...</th>\n",
              "      <th>19_PCTWNHPOP</th>\n",
              "      <th>19_PCTGRADDEG</th>\n",
              "      <th>19_PCTWHCOL</th>\n",
              "      <th>19_PCTSPARC</th>\n",
              "      <th>19_CASH_EDU</th>\n",
              "      <th>19_HEALTHINS</th>\n",
              "      <th>19_MEDHHINC</th>\n",
              "      <th>19_MEDAGHHER</th>\n",
              "      <th>MEDHHINC_DIFF_RAW</th>\n",
              "      <th>MEDHHINC_DIFF_PCT</th>\n",
              "    </tr>\n",
              "  </thead>\n",
              "  <tbody>\n",
              "    <tr>\n",
              "      <th>20_POP20</th>\n",
              "      <td>1.000000</td>\n",
              "      <td>0.738973</td>\n",
              "      <td>0.167190</td>\n",
              "      <td>0.169656</td>\n",
              "      <td>-0.187598</td>\n",
              "      <td>0.201772</td>\n",
              "      <td>0.089439</td>\n",
              "      <td>0.019668</td>\n",
              "      <td>0.165027</td>\n",
              "      <td>0.134233</td>\n",
              "      <td>...</td>\n",
              "      <td>-0.040293</td>\n",
              "      <td>0.096882</td>\n",
              "      <td>0.176454</td>\n",
              "      <td>0.010358</td>\n",
              "      <td>0.118261</td>\n",
              "      <td>0.027659</td>\n",
              "      <td>0.164504</td>\n",
              "      <td>-0.186290</td>\n",
              "      <td>0.023587</td>\n",
              "      <td>0.008774</td>\n",
              "    </tr>\n",
              "    <tr>\n",
              "      <th>20_HH20</th>\n",
              "      <td>0.738973</td>\n",
              "      <td>1.000000</td>\n",
              "      <td>0.210609</td>\n",
              "      <td>0.080951</td>\n",
              "      <td>-0.223684</td>\n",
              "      <td>0.260592</td>\n",
              "      <td>0.137752</td>\n",
              "      <td>-0.011742</td>\n",
              "      <td>0.197737</td>\n",
              "      <td>0.167210</td>\n",
              "      <td>...</td>\n",
              "      <td>-0.023737</td>\n",
              "      <td>0.159461</td>\n",
              "      <td>0.268850</td>\n",
              "      <td>-0.024351</td>\n",
              "      <td>0.144299</td>\n",
              "      <td>0.034248</td>\n",
              "      <td>0.197344</td>\n",
              "      <td>-0.221707</td>\n",
              "      <td>0.024700</td>\n",
              "      <td>0.006994</td>\n",
              "    </tr>\n",
              "    <tr>\n",
              "      <th>20_POPGROW20</th>\n",
              "      <td>0.167190</td>\n",
              "      <td>0.210609</td>\n",
              "      <td>1.000000</td>\n",
              "      <td>0.114125</td>\n",
              "      <td>-0.365373</td>\n",
              "      <td>0.518829</td>\n",
              "      <td>0.416824</td>\n",
              "      <td>-0.028794</td>\n",
              "      <td>0.390353</td>\n",
              "      <td>0.359061</td>\n",
              "      <td>...</td>\n",
              "      <td>0.016047</td>\n",
              "      <td>0.335878</td>\n",
              "      <td>0.501895</td>\n",
              "      <td>-0.148928</td>\n",
              "      <td>0.334103</td>\n",
              "      <td>0.125074</td>\n",
              "      <td>0.389352</td>\n",
              "      <td>-0.360184</td>\n",
              "      <td>0.052197</td>\n",
              "      <td>0.022702</td>\n",
              "    </tr>\n",
              "    <tr>\n",
              "      <th>20_AVGHHSIZE</th>\n",
              "      <td>0.169656</td>\n",
              "      <td>0.080951</td>\n",
              "      <td>0.114125</td>\n",
              "      <td>1.000000</td>\n",
              "      <td>-0.115758</td>\n",
              "      <td>0.025020</td>\n",
              "      <td>-0.116879</td>\n",
              "      <td>0.348524</td>\n",
              "      <td>0.192831</td>\n",
              "      <td>0.105045</td>\n",
              "      <td>...</td>\n",
              "      <td>-0.188534</td>\n",
              "      <td>-0.201192</td>\n",
              "      <td>-0.043755</td>\n",
              "      <td>0.318061</td>\n",
              "      <td>0.123826</td>\n",
              "      <td>0.111282</td>\n",
              "      <td>0.190806</td>\n",
              "      <td>-0.119221</td>\n",
              "      <td>0.049124</td>\n",
              "      <td>0.027768</td>\n",
              "    </tr>\n",
              "    <tr>\n",
              "      <th>20_MEDAGHHER</th>\n",
              "      <td>-0.187598</td>\n",
              "      <td>-0.223684</td>\n",
              "      <td>-0.365373</td>\n",
              "      <td>-0.115758</td>\n",
              "      <td>1.000000</td>\n",
              "      <td>-0.280389</td>\n",
              "      <td>-0.046330</td>\n",
              "      <td>0.215168</td>\n",
              "      <td>-0.028874</td>\n",
              "      <td>0.013102</td>\n",
              "      <td>...</td>\n",
              "      <td>0.315167</td>\n",
              "      <td>-0.153928</td>\n",
              "      <td>-0.332436</td>\n",
              "      <td>-0.186650</td>\n",
              "      <td>0.040498</td>\n",
              "      <td>0.385700</td>\n",
              "      <td>-0.028730</td>\n",
              "      <td>0.995603</td>\n",
              "      <td>-0.004918</td>\n",
              "      <td>-0.006920</td>\n",
              "    </tr>\n",
              "    <tr>\n",
              "      <th>20_MEDRENT</th>\n",
              "      <td>0.201772</td>\n",
              "      <td>0.260592</td>\n",
              "      <td>0.518829</td>\n",
              "      <td>0.025020</td>\n",
              "      <td>-0.280389</td>\n",
              "      <td>1.000000</td>\n",
              "      <td>0.576288</td>\n",
              "      <td>0.060173</td>\n",
              "      <td>0.600090</td>\n",
              "      <td>0.580958</td>\n",
              "      <td>...</td>\n",
              "      <td>0.139665</td>\n",
              "      <td>0.535810</td>\n",
              "      <td>0.587258</td>\n",
              "      <td>-0.335576</td>\n",
              "      <td>0.546722</td>\n",
              "      <td>0.287004</td>\n",
              "      <td>0.599172</td>\n",
              "      <td>-0.271847</td>\n",
              "      <td>0.070796</td>\n",
              "      <td>0.016945</td>\n",
              "    </tr>\n",
              "    <tr>\n",
              "      <th>20_MEDVALOCC</th>\n",
              "      <td>0.089439</td>\n",
              "      <td>0.137752</td>\n",
              "      <td>0.416824</td>\n",
              "      <td>-0.116879</td>\n",
              "      <td>-0.046330</td>\n",
              "      <td>0.576288</td>\n",
              "      <td>1.000000</td>\n",
              "      <td>0.160196</td>\n",
              "      <td>0.727752</td>\n",
              "      <td>0.792234</td>\n",
              "      <td>...</td>\n",
              "      <td>0.400526</td>\n",
              "      <td>0.724475</td>\n",
              "      <td>0.610598</td>\n",
              "      <td>-0.551727</td>\n",
              "      <td>0.778046</td>\n",
              "      <td>0.517647</td>\n",
              "      <td>0.727817</td>\n",
              "      <td>-0.034633</td>\n",
              "      <td>0.067900</td>\n",
              "      <td>0.003939</td>\n",
              "    </tr>\n",
              "    <tr>\n",
              "      <th>20_MEDVEHICLE</th>\n",
              "      <td>0.019668</td>\n",
              "      <td>-0.011742</td>\n",
              "      <td>-0.028794</td>\n",
              "      <td>0.348524</td>\n",
              "      <td>0.215168</td>\n",
              "      <td>0.060173</td>\n",
              "      <td>0.160196</td>\n",
              "      <td>1.000000</td>\n",
              "      <td>0.419561</td>\n",
              "      <td>0.364705</td>\n",
              "      <td>...</td>\n",
              "      <td>0.526714</td>\n",
              "      <td>0.020018</td>\n",
              "      <td>0.181405</td>\n",
              "      <td>-0.423624</td>\n",
              "      <td>0.396581</td>\n",
              "      <td>0.672616</td>\n",
              "      <td>0.418531</td>\n",
              "      <td>0.218535</td>\n",
              "      <td>0.055416</td>\n",
              "      <td>0.013257</td>\n",
              "    </tr>\n",
              "    <tr>\n",
              "      <th>20_MEDHHINC</th>\n",
              "      <td>0.165027</td>\n",
              "      <td>0.197737</td>\n",
              "      <td>0.390353</td>\n",
              "      <td>0.192831</td>\n",
              "      <td>-0.028874</td>\n",
              "      <td>0.600090</td>\n",
              "      <td>0.727752</td>\n",
              "      <td>0.419561</td>\n",
              "      <td>1.000000</td>\n",
              "      <td>0.929933</td>\n",
              "      <td>...</td>\n",
              "      <td>0.402419</td>\n",
              "      <td>0.622205</td>\n",
              "      <td>0.708903</td>\n",
              "      <td>-0.533615</td>\n",
              "      <td>0.897542</td>\n",
              "      <td>0.691333</td>\n",
              "      <td>0.997880</td>\n",
              "      <td>-0.017862</td>\n",
              "      <td>0.126981</td>\n",
              "      <td>0.034230</td>\n",
              "    </tr>\n",
              "    <tr>\n",
              "      <th>20_AVGHHINC</th>\n",
              "      <td>0.134233</td>\n",
              "      <td>0.167210</td>\n",
              "      <td>0.359061</td>\n",
              "      <td>0.105045</td>\n",
              "      <td>0.013102</td>\n",
              "      <td>0.580958</td>\n",
              "      <td>0.792234</td>\n",
              "      <td>0.364705</td>\n",
              "      <td>0.929933</td>\n",
              "      <td>1.000000</td>\n",
              "      <td>...</td>\n",
              "      <td>0.415513</td>\n",
              "      <td>0.675332</td>\n",
              "      <td>0.684195</td>\n",
              "      <td>-0.554223</td>\n",
              "      <td>0.911433</td>\n",
              "      <td>0.675856</td>\n",
              "      <td>0.929264</td>\n",
              "      <td>0.024133</td>\n",
              "      <td>0.098230</td>\n",
              "      <td>0.013451</td>\n",
              "    </tr>\n",
              "    <tr>\n",
              "      <th>20_PERCAPINC</th>\n",
              "      <td>0.068755</td>\n",
              "      <td>0.136835</td>\n",
              "      <td>0.323315</td>\n",
              "      <td>-0.186712</td>\n",
              "      <td>0.038538</td>\n",
              "      <td>0.555794</td>\n",
              "      <td>0.802280</td>\n",
              "      <td>0.228678</td>\n",
              "      <td>0.826296</td>\n",
              "      <td>0.934129</td>\n",
              "      <td>...</td>\n",
              "      <td>0.441370</td>\n",
              "      <td>0.708688</td>\n",
              "      <td>0.677379</td>\n",
              "      <td>-0.610246</td>\n",
              "      <td>0.826179</td>\n",
              "      <td>0.607488</td>\n",
              "      <td>0.826427</td>\n",
              "      <td>0.049798</td>\n",
              "      <td>0.076233</td>\n",
              "      <td>0.003827</td>\n",
              "    </tr>\n",
              "    <tr>\n",
              "      <th>20_MEDAGE</th>\n",
              "      <td>-0.187697</td>\n",
              "      <td>-0.187068</td>\n",
              "      <td>-0.253789</td>\n",
              "      <td>-0.328361</td>\n",
              "      <td>0.868749</td>\n",
              "      <td>-0.111691</td>\n",
              "      <td>0.168368</td>\n",
              "      <td>0.246731</td>\n",
              "      <td>0.127225</td>\n",
              "      <td>0.178359</td>\n",
              "      <td>...</td>\n",
              "      <td>0.489084</td>\n",
              "      <td>0.058894</td>\n",
              "      <td>-0.136879</td>\n",
              "      <td>-0.451884</td>\n",
              "      <td>0.199719</td>\n",
              "      <td>0.504405</td>\n",
              "      <td>0.126981</td>\n",
              "      <td>0.877707</td>\n",
              "      <td>0.015765</td>\n",
              "      <td>0.001784</td>\n",
              "    </tr>\n",
              "    <tr>\n",
              "      <th>20_PCTHH200P</th>\n",
              "      <td>0.117154</td>\n",
              "      <td>0.142907</td>\n",
              "      <td>0.331365</td>\n",
              "      <td>0.100190</td>\n",
              "      <td>0.000547</td>\n",
              "      <td>0.537999</td>\n",
              "      <td>0.788972</td>\n",
              "      <td>0.237786</td>\n",
              "      <td>0.853332</td>\n",
              "      <td>0.904336</td>\n",
              "      <td>...</td>\n",
              "      <td>0.313873</td>\n",
              "      <td>0.693291</td>\n",
              "      <td>0.619520</td>\n",
              "      <td>-0.461085</td>\n",
              "      <td>0.930371</td>\n",
              "      <td>0.558205</td>\n",
              "      <td>0.853071</td>\n",
              "      <td>0.010252</td>\n",
              "      <td>0.084762</td>\n",
              "      <td>0.006061</td>\n",
              "    </tr>\n",
              "    <tr>\n",
              "      <th>20_HHHINCAVG</th>\n",
              "      <td>0.005020</td>\n",
              "      <td>0.019754</td>\n",
              "      <td>0.048519</td>\n",
              "      <td>-0.057769</td>\n",
              "      <td>0.060207</td>\n",
              "      <td>0.116908</td>\n",
              "      <td>0.207691</td>\n",
              "      <td>0.139433</td>\n",
              "      <td>0.171852</td>\n",
              "      <td>0.340188</td>\n",
              "      <td>...</td>\n",
              "      <td>0.195167</td>\n",
              "      <td>0.171373</td>\n",
              "      <td>0.166807</td>\n",
              "      <td>-0.219914</td>\n",
              "      <td>0.199948</td>\n",
              "      <td>0.224402</td>\n",
              "      <td>0.172493</td>\n",
              "      <td>0.062337</td>\n",
              "      <td>0.006500</td>\n",
              "      <td>-0.012550</td>\n",
              "    </tr>\n",
              "    <tr>\n",
              "      <th>19_POP19</th>\n",
              "      <td>0.991776</td>\n",
              "      <td>0.718466</td>\n",
              "      <td>0.159592</td>\n",
              "      <td>0.165569</td>\n",
              "      <td>-0.182567</td>\n",
              "      <td>0.196688</td>\n",
              "      <td>0.087407</td>\n",
              "      <td>0.019606</td>\n",
              "      <td>0.161180</td>\n",
              "      <td>0.131144</td>\n",
              "      <td>...</td>\n",
              "      <td>-0.039473</td>\n",
              "      <td>0.094396</td>\n",
              "      <td>0.171774</td>\n",
              "      <td>0.010629</td>\n",
              "      <td>0.115794</td>\n",
              "      <td>0.027312</td>\n",
              "      <td>0.160734</td>\n",
              "      <td>-0.181530</td>\n",
              "      <td>0.022058</td>\n",
              "      <td>0.008557</td>\n",
              "    </tr>\n",
              "    <tr>\n",
              "      <th>19_HH19</th>\n",
              "      <td>0.730202</td>\n",
              "      <td>0.988150</td>\n",
              "      <td>0.203957</td>\n",
              "      <td>0.080389</td>\n",
              "      <td>-0.221560</td>\n",
              "      <td>0.258109</td>\n",
              "      <td>0.136489</td>\n",
              "      <td>-0.011933</td>\n",
              "      <td>0.195631</td>\n",
              "      <td>0.165458</td>\n",
              "      <td>...</td>\n",
              "      <td>-0.024199</td>\n",
              "      <td>0.158375</td>\n",
              "      <td>0.265905</td>\n",
              "      <td>-0.023454</td>\n",
              "      <td>0.142933</td>\n",
              "      <td>0.033306</td>\n",
              "      <td>0.195161</td>\n",
              "      <td>-0.219906</td>\n",
              "      <td>0.025682</td>\n",
              "      <td>0.008411</td>\n",
              "    </tr>\n",
              "    <tr>\n",
              "      <th>19_POPGROW19</th>\n",
              "      <td>0.168206</td>\n",
              "      <td>0.212410</td>\n",
              "      <td>0.981328</td>\n",
              "      <td>0.117806</td>\n",
              "      <td>-0.372736</td>\n",
              "      <td>0.528895</td>\n",
              "      <td>0.424941</td>\n",
              "      <td>-0.027233</td>\n",
              "      <td>0.400169</td>\n",
              "      <td>0.370422</td>\n",
              "      <td>...</td>\n",
              "      <td>0.007571</td>\n",
              "      <td>0.349678</td>\n",
              "      <td>0.514230</td>\n",
              "      <td>-0.150594</td>\n",
              "      <td>0.343644</td>\n",
              "      <td>0.125501</td>\n",
              "      <td>0.399252</td>\n",
              "      <td>-0.367465</td>\n",
              "      <td>0.051858</td>\n",
              "      <td>0.021665</td>\n",
              "    </tr>\n",
              "    <tr>\n",
              "      <th>19_MEDVEHICLE</th>\n",
              "      <td>0.021122</td>\n",
              "      <td>-0.009316</td>\n",
              "      <td>-0.023097</td>\n",
              "      <td>0.350441</td>\n",
              "      <td>0.221953</td>\n",
              "      <td>0.061523</td>\n",
              "      <td>0.163792</td>\n",
              "      <td>0.987679</td>\n",
              "      <td>0.425512</td>\n",
              "      <td>0.370106</td>\n",
              "      <td>...</td>\n",
              "      <td>0.542221</td>\n",
              "      <td>0.023234</td>\n",
              "      <td>0.181212</td>\n",
              "      <td>-0.431685</td>\n",
              "      <td>0.406655</td>\n",
              "      <td>0.687886</td>\n",
              "      <td>0.425722</td>\n",
              "      <td>0.226233</td>\n",
              "      <td>0.037079</td>\n",
              "      <td>-0.005236</td>\n",
              "    </tr>\n",
              "    <tr>\n",
              "      <th>19_MEDAGE</th>\n",
              "      <td>-0.185175</td>\n",
              "      <td>-0.183497</td>\n",
              "      <td>-0.249171</td>\n",
              "      <td>-0.328409</td>\n",
              "      <td>0.866542</td>\n",
              "      <td>-0.105309</td>\n",
              "      <td>0.175203</td>\n",
              "      <td>0.253121</td>\n",
              "      <td>0.136534</td>\n",
              "      <td>0.187415</td>\n",
              "      <td>...</td>\n",
              "      <td>0.501009</td>\n",
              "      <td>0.065408</td>\n",
              "      <td>-0.126080</td>\n",
              "      <td>-0.462781</td>\n",
              "      <td>0.211945</td>\n",
              "      <td>0.518470</td>\n",
              "      <td>0.138137</td>\n",
              "      <td>0.879476</td>\n",
              "      <td>-0.011511</td>\n",
              "      <td>-0.026657</td>\n",
              "    </tr>\n",
              "    <tr>\n",
              "      <th>19_PCTOOHH</th>\n",
              "      <td>0.008591</td>\n",
              "      <td>-0.021911</td>\n",
              "      <td>-0.041539</td>\n",
              "      <td>0.359194</td>\n",
              "      <td>0.497619</td>\n",
              "      <td>0.061918</td>\n",
              "      <td>0.188805</td>\n",
              "      <td>0.738619</td>\n",
              "      <td>0.481385</td>\n",
              "      <td>0.437489</td>\n",
              "      <td>...</td>\n",
              "      <td>0.560803</td>\n",
              "      <td>0.056136</td>\n",
              "      <td>0.156692</td>\n",
              "      <td>-0.464228</td>\n",
              "      <td>0.468316</td>\n",
              "      <td>0.804286</td>\n",
              "      <td>0.482705</td>\n",
              "      <td>0.506185</td>\n",
              "      <td>0.025456</td>\n",
              "      <td>-0.024694</td>\n",
              "    </tr>\n",
              "    <tr>\n",
              "      <th>19_PCTWHPOP</th>\n",
              "      <td>-0.027990</td>\n",
              "      <td>-0.010842</td>\n",
              "      <td>0.047613</td>\n",
              "      <td>-0.162648</td>\n",
              "      <td>0.280379</td>\n",
              "      <td>0.156119</td>\n",
              "      <td>0.402761</td>\n",
              "      <td>0.523189</td>\n",
              "      <td>0.404755</td>\n",
              "      <td>0.415668</td>\n",
              "      <td>...</td>\n",
              "      <td>0.993354</td>\n",
              "      <td>0.252205</td>\n",
              "      <td>0.251919</td>\n",
              "      <td>-0.742867</td>\n",
              "      <td>0.536108</td>\n",
              "      <td>0.844520</td>\n",
              "      <td>0.406512</td>\n",
              "      <td>0.291141</td>\n",
              "      <td>0.011538</td>\n",
              "      <td>-0.026738</td>\n",
              "    </tr>\n",
              "    <tr>\n",
              "      <th>19_PCTBLPOP</th>\n",
              "      <td>0.009638</td>\n",
              "      <td>-0.003915</td>\n",
              "      <td>-0.088669</td>\n",
              "      <td>0.049307</td>\n",
              "      <td>-0.171552</td>\n",
              "      <td>-0.175108</td>\n",
              "      <td>-0.383416</td>\n",
              "      <td>-0.516817</td>\n",
              "      <td>-0.383917</td>\n",
              "      <td>-0.393105</td>\n",
              "      <td>...</td>\n",
              "      <td>-0.891375</td>\n",
              "      <td>-0.266652</td>\n",
              "      <td>-0.266465</td>\n",
              "      <td>0.706893</td>\n",
              "      <td>-0.561665</td>\n",
              "      <td>-0.839504</td>\n",
              "      <td>-0.384967</td>\n",
              "      <td>-0.178779</td>\n",
              "      <td>-0.020332</td>\n",
              "      <td>0.017576</td>\n",
              "    </tr>\n",
              "    <tr>\n",
              "      <th>19_PCTHISPOP</th>\n",
              "      <td>0.069395</td>\n",
              "      <td>0.055584</td>\n",
              "      <td>0.175863</td>\n",
              "      <td>0.310682</td>\n",
              "      <td>-0.326212</td>\n",
              "      <td>-0.037382</td>\n",
              "      <td>-0.225221</td>\n",
              "      <td>-0.216879</td>\n",
              "      <td>-0.234590</td>\n",
              "      <td>-0.246952</td>\n",
              "      <td>...</td>\n",
              "      <td>-0.462969</td>\n",
              "      <td>-0.193315</td>\n",
              "      <td>-0.146093</td>\n",
              "      <td>0.383170</td>\n",
              "      <td>-0.257813</td>\n",
              "      <td>-0.338539</td>\n",
              "      <td>-0.236099</td>\n",
              "      <td>-0.334859</td>\n",
              "      <td>0.000794</td>\n",
              "      <td>0.021587</td>\n",
              "    </tr>\n",
              "    <tr>\n",
              "      <th>19_PCTWNHPOP</th>\n",
              "      <td>-0.040293</td>\n",
              "      <td>-0.023737</td>\n",
              "      <td>0.016047</td>\n",
              "      <td>-0.188534</td>\n",
              "      <td>0.315167</td>\n",
              "      <td>0.139665</td>\n",
              "      <td>0.400526</td>\n",
              "      <td>0.526714</td>\n",
              "      <td>0.402419</td>\n",
              "      <td>0.415513</td>\n",
              "      <td>...</td>\n",
              "      <td>1.000000</td>\n",
              "      <td>0.252687</td>\n",
              "      <td>0.243742</td>\n",
              "      <td>-0.747328</td>\n",
              "      <td>0.532616</td>\n",
              "      <td>0.842128</td>\n",
              "      <td>0.404252</td>\n",
              "      <td>0.326018</td>\n",
              "      <td>0.010154</td>\n",
              "      <td>-0.027543</td>\n",
              "    </tr>\n",
              "    <tr>\n",
              "      <th>19_PCTGRADDEG</th>\n",
              "      <td>0.096882</td>\n",
              "      <td>0.159461</td>\n",
              "      <td>0.335878</td>\n",
              "      <td>-0.201192</td>\n",
              "      <td>-0.153928</td>\n",
              "      <td>0.535810</td>\n",
              "      <td>0.724475</td>\n",
              "      <td>0.020018</td>\n",
              "      <td>0.622205</td>\n",
              "      <td>0.675332</td>\n",
              "      <td>...</td>\n",
              "      <td>0.252687</td>\n",
              "      <td>1.000000</td>\n",
              "      <td>0.665295</td>\n",
              "      <td>-0.496080</td>\n",
              "      <td>0.678112</td>\n",
              "      <td>0.357446</td>\n",
              "      <td>0.623601</td>\n",
              "      <td>-0.144823</td>\n",
              "      <td>0.037635</td>\n",
              "      <td>-0.017143</td>\n",
              "    </tr>\n",
              "    <tr>\n",
              "      <th>19_PCTWHCOL</th>\n",
              "      <td>0.176454</td>\n",
              "      <td>0.268850</td>\n",
              "      <td>0.501895</td>\n",
              "      <td>-0.043755</td>\n",
              "      <td>-0.332436</td>\n",
              "      <td>0.587258</td>\n",
              "      <td>0.610598</td>\n",
              "      <td>0.181405</td>\n",
              "      <td>0.708903</td>\n",
              "      <td>0.684195</td>\n",
              "      <td>...</td>\n",
              "      <td>0.243742</td>\n",
              "      <td>0.665295</td>\n",
              "      <td>1.000000</td>\n",
              "      <td>-0.455360</td>\n",
              "      <td>0.647792</td>\n",
              "      <td>0.396333</td>\n",
              "      <td>0.710443</td>\n",
              "      <td>-0.327858</td>\n",
              "      <td>0.043638</td>\n",
              "      <td>-0.023897</td>\n",
              "    </tr>\n",
              "    <tr>\n",
              "      <th>19_PCTSPARC</th>\n",
              "      <td>0.010358</td>\n",
              "      <td>-0.024351</td>\n",
              "      <td>-0.148928</td>\n",
              "      <td>0.318061</td>\n",
              "      <td>-0.186650</td>\n",
              "      <td>-0.335576</td>\n",
              "      <td>-0.551727</td>\n",
              "      <td>-0.423624</td>\n",
              "      <td>-0.533615</td>\n",
              "      <td>-0.554223</td>\n",
              "      <td>...</td>\n",
              "      <td>-0.747328</td>\n",
              "      <td>-0.496080</td>\n",
              "      <td>-0.455360</td>\n",
              "      <td>1.000000</td>\n",
              "      <td>-0.613156</td>\n",
              "      <td>-0.741354</td>\n",
              "      <td>-0.535520</td>\n",
              "      <td>-0.198025</td>\n",
              "      <td>-0.021484</td>\n",
              "      <td>0.031585</td>\n",
              "    </tr>\n",
              "    <tr>\n",
              "      <th>19_CASH_EDU</th>\n",
              "      <td>0.118261</td>\n",
              "      <td>0.144299</td>\n",
              "      <td>0.334103</td>\n",
              "      <td>0.123826</td>\n",
              "      <td>0.040498</td>\n",
              "      <td>0.546722</td>\n",
              "      <td>0.778046</td>\n",
              "      <td>0.396581</td>\n",
              "      <td>0.897542</td>\n",
              "      <td>0.911433</td>\n",
              "      <td>...</td>\n",
              "      <td>0.532616</td>\n",
              "      <td>0.678112</td>\n",
              "      <td>0.647792</td>\n",
              "      <td>-0.613156</td>\n",
              "      <td>1.000000</td>\n",
              "      <td>0.763606</td>\n",
              "      <td>0.899662</td>\n",
              "      <td>0.052991</td>\n",
              "      <td>0.052660</td>\n",
              "      <td>-0.023936</td>\n",
              "    </tr>\n",
              "    <tr>\n",
              "      <th>19_HEALTHINS</th>\n",
              "      <td>0.027659</td>\n",
              "      <td>0.034248</td>\n",
              "      <td>0.125074</td>\n",
              "      <td>0.111282</td>\n",
              "      <td>0.385700</td>\n",
              "      <td>0.287004</td>\n",
              "      <td>0.517647</td>\n",
              "      <td>0.672616</td>\n",
              "      <td>0.691333</td>\n",
              "      <td>0.675856</td>\n",
              "      <td>...</td>\n",
              "      <td>0.842128</td>\n",
              "      <td>0.357446</td>\n",
              "      <td>0.396333</td>\n",
              "      <td>-0.741354</td>\n",
              "      <td>0.763606</td>\n",
              "      <td>1.000000</td>\n",
              "      <td>0.693442</td>\n",
              "      <td>0.397832</td>\n",
              "      <td>0.033313</td>\n",
              "      <td>-0.033037</td>\n",
              "    </tr>\n",
              "    <tr>\n",
              "      <th>19_MEDHHINC</th>\n",
              "      <td>0.164504</td>\n",
              "      <td>0.197344</td>\n",
              "      <td>0.389352</td>\n",
              "      <td>0.190806</td>\n",
              "      <td>-0.028730</td>\n",
              "      <td>0.599172</td>\n",
              "      <td>0.727817</td>\n",
              "      <td>0.418531</td>\n",
              "      <td>0.997880</td>\n",
              "      <td>0.929264</td>\n",
              "      <td>...</td>\n",
              "      <td>0.404252</td>\n",
              "      <td>0.623601</td>\n",
              "      <td>0.710443</td>\n",
              "      <td>-0.535520</td>\n",
              "      <td>0.899662</td>\n",
              "      <td>0.693442</td>\n",
              "      <td>1.000000</td>\n",
              "      <td>-0.016263</td>\n",
              "      <td>0.062151</td>\n",
              "      <td>-0.021539</td>\n",
              "    </tr>\n",
              "    <tr>\n",
              "      <th>19_MEDAGHHER</th>\n",
              "      <td>-0.186290</td>\n",
              "      <td>-0.221707</td>\n",
              "      <td>-0.360184</td>\n",
              "      <td>-0.119221</td>\n",
              "      <td>0.995603</td>\n",
              "      <td>-0.271847</td>\n",
              "      <td>-0.034633</td>\n",
              "      <td>0.218535</td>\n",
              "      <td>-0.017862</td>\n",
              "      <td>0.024133</td>\n",
              "      <td>...</td>\n",
              "      <td>0.326018</td>\n",
              "      <td>-0.144823</td>\n",
              "      <td>-0.327858</td>\n",
              "      <td>-0.198025</td>\n",
              "      <td>0.052991</td>\n",
              "      <td>0.397832</td>\n",
              "      <td>-0.016263</td>\n",
              "      <td>1.000000</td>\n",
              "      <td>-0.026063</td>\n",
              "      <td>-0.028900</td>\n",
              "    </tr>\n",
              "    <tr>\n",
              "      <th>MEDHHINC_DIFF_RAW</th>\n",
              "      <td>0.023587</td>\n",
              "      <td>0.024700</td>\n",
              "      <td>0.052197</td>\n",
              "      <td>0.049124</td>\n",
              "      <td>-0.004918</td>\n",
              "      <td>0.070796</td>\n",
              "      <td>0.067900</td>\n",
              "      <td>0.055416</td>\n",
              "      <td>0.126981</td>\n",
              "      <td>0.098230</td>\n",
              "      <td>...</td>\n",
              "      <td>0.010154</td>\n",
              "      <td>0.037635</td>\n",
              "      <td>0.043638</td>\n",
              "      <td>-0.021484</td>\n",
              "      <td>0.052660</td>\n",
              "      <td>0.033313</td>\n",
              "      <td>0.062151</td>\n",
              "      <td>-0.026063</td>\n",
              "      <td>1.000000</td>\n",
              "      <td>0.853155</td>\n",
              "    </tr>\n",
              "    <tr>\n",
              "      <th>MEDHHINC_DIFF_PCT</th>\n",
              "      <td>0.008774</td>\n",
              "      <td>0.006994</td>\n",
              "      <td>0.022702</td>\n",
              "      <td>0.027768</td>\n",
              "      <td>-0.006920</td>\n",
              "      <td>0.016945</td>\n",
              "      <td>0.003939</td>\n",
              "      <td>0.013257</td>\n",
              "      <td>0.034230</td>\n",
              "      <td>0.013451</td>\n",
              "      <td>...</td>\n",
              "      <td>-0.027543</td>\n",
              "      <td>-0.017143</td>\n",
              "      <td>-0.023897</td>\n",
              "      <td>0.031585</td>\n",
              "      <td>-0.023936</td>\n",
              "      <td>-0.033037</td>\n",
              "      <td>-0.021539</td>\n",
              "      <td>-0.028900</td>\n",
              "      <td>0.853155</td>\n",
              "      <td>1.000000</td>\n",
              "    </tr>\n",
              "  </tbody>\n",
              "</table>\n",
              "<p>33 rows × 33 columns</p>\n",
              "</div>\n",
              "      <button class=\"colab-df-convert\" onclick=\"convertToInteractive('df-f90b0062-34ec-46c9-8149-bea3e43bda78')\"\n",
              "              title=\"Convert this dataframe to an interactive table.\"\n",
              "              style=\"display:none;\">\n",
              "        \n",
              "  <svg xmlns=\"http://www.w3.org/2000/svg\" height=\"24px\"viewBox=\"0 0 24 24\"\n",
              "       width=\"24px\">\n",
              "    <path d=\"M0 0h24v24H0V0z\" fill=\"none\"/>\n",
              "    <path d=\"M18.56 5.44l.94 2.06.94-2.06 2.06-.94-2.06-.94-.94-2.06-.94 2.06-2.06.94zm-11 1L8.5 8.5l.94-2.06 2.06-.94-2.06-.94L8.5 2.5l-.94 2.06-2.06.94zm10 10l.94 2.06.94-2.06 2.06-.94-2.06-.94-.94-2.06-.94 2.06-2.06.94z\"/><path d=\"M17.41 7.96l-1.37-1.37c-.4-.4-.92-.59-1.43-.59-.52 0-1.04.2-1.43.59L10.3 9.45l-7.72 7.72c-.78.78-.78 2.05 0 2.83L4 21.41c.39.39.9.59 1.41.59.51 0 1.02-.2 1.41-.59l7.78-7.78 2.81-2.81c.8-.78.8-2.07 0-2.86zM5.41 20L4 18.59l7.72-7.72 1.47 1.35L5.41 20z\"/>\n",
              "  </svg>\n",
              "      </button>\n",
              "      \n",
              "  <style>\n",
              "    .colab-df-container {\n",
              "      display:flex;\n",
              "      flex-wrap:wrap;\n",
              "      gap: 12px;\n",
              "    }\n",
              "\n",
              "    .colab-df-convert {\n",
              "      background-color: #E8F0FE;\n",
              "      border: none;\n",
              "      border-radius: 50%;\n",
              "      cursor: pointer;\n",
              "      display: none;\n",
              "      fill: #1967D2;\n",
              "      height: 32px;\n",
              "      padding: 0 0 0 0;\n",
              "      width: 32px;\n",
              "    }\n",
              "\n",
              "    .colab-df-convert:hover {\n",
              "      background-color: #E2EBFA;\n",
              "      box-shadow: 0px 1px 2px rgba(60, 64, 67, 0.3), 0px 1px 3px 1px rgba(60, 64, 67, 0.15);\n",
              "      fill: #174EA6;\n",
              "    }\n",
              "\n",
              "    [theme=dark] .colab-df-convert {\n",
              "      background-color: #3B4455;\n",
              "      fill: #D2E3FC;\n",
              "    }\n",
              "\n",
              "    [theme=dark] .colab-df-convert:hover {\n",
              "      background-color: #434B5C;\n",
              "      box-shadow: 0px 1px 3px 1px rgba(0, 0, 0, 0.15);\n",
              "      filter: drop-shadow(0px 1px 2px rgba(0, 0, 0, 0.3));\n",
              "      fill: #FFFFFF;\n",
              "    }\n",
              "  </style>\n",
              "\n",
              "      <script>\n",
              "        const buttonEl =\n",
              "          document.querySelector('#df-f90b0062-34ec-46c9-8149-bea3e43bda78 button.colab-df-convert');\n",
              "        buttonEl.style.display =\n",
              "          google.colab.kernel.accessAllowed ? 'block' : 'none';\n",
              "\n",
              "        async function convertToInteractive(key) {\n",
              "          const element = document.querySelector('#df-f90b0062-34ec-46c9-8149-bea3e43bda78');\n",
              "          const dataTable =\n",
              "            await google.colab.kernel.invokeFunction('convertToInteractive',\n",
              "                                                     [key], {});\n",
              "          if (!dataTable) return;\n",
              "\n",
              "          const docLinkHtml = 'Like what you see? Visit the ' +\n",
              "            '<a target=\"_blank\" href=https://colab.research.google.com/notebooks/data_table.ipynb>data table notebook</a>'\n",
              "            + ' to learn more about interactive tables.';\n",
              "          element.innerHTML = '';\n",
              "          dataTable['output_type'] = 'display_data';\n",
              "          await google.colab.output.renderOutput(dataTable, element);\n",
              "          const docLink = document.createElement('div');\n",
              "          docLink.innerHTML = docLinkHtml;\n",
              "          element.appendChild(docLink);\n",
              "        }\n",
              "      </script>\n",
              "    </div>\n",
              "  </div>\n",
              "  "
            ]
          },
          "metadata": {},
          "execution_count": 148
        }
      ],
      "source": [
        "# Explore coorelations with Pearson standard correlation coefficient.\n",
        "df.corr()"
      ]
    },
    {
      "cell_type": "code",
      "execution_count": null,
      "metadata": {
        "id": "u3uTTBrVG3zQ",
        "colab": {
          "base_uri": "https://localhost:8080/",
          "height": 447
        },
        "outputId": "49b8897b-4921-4576-a79e-fc6139a33018"
      },
      "outputs": [
        {
          "output_type": "display_data",
          "data": {
            "text/plain": [
              "<Figure size 2160x720 with 2 Axes>"
            ],
            "image/png": "[encoded data removed]"
          },
          "metadata": {
            "needs_background": "light"
          }
        }
      ],
      "source": [
        "dfCorr = df.corr()\n",
        "filteredDf = dfCorr[((dfCorr >= .5) | (dfCorr <= -.5)) & (dfCorr !=1.000)]\n",
        "plt.figure(figsize=(30,10))\n",
        "sns.heatmap(filteredDf, annot=True, cmap=\"Reds\")\n",
        "plt.show()"
      ]
    },
    {
      "cell_type": "code",
      "source": [
        "#Scatter Plot - Population Growth vs. Change in HH Income from 19 to 20\n",
        "import matplotlib. pyplot as plt \n",
        "fig, ax = plt.subplots(figsize = (16, 8))\n",
        "ax.scatter(df['MEDHHINC_DIFF_PCT'], df['19_MEDAGHHER'])\n",
        "ax.set_xlabel('Change in Median HH Income 19 to 20')\n",
        "ax.set_ylabel('2019 Median Age Household')\n",
        "plt.show()"
      ],
      "metadata": {
        "colab": {
          "base_uri": "https://localhost:8080/",
          "height": 497
        },
        "outputId": "cd9bbee6-2de3-4bd8-d2c9-ac87da9bf395",
        "id": "eEE2APWTlV_Z"
      },
      "execution_count": null,
      "outputs": [
        {
          "output_type": "display_data",
          "data": {
            "text/plain": [
              "<Figure size 1152x576 with 1 Axes>"
            ],
            "image/png": "[encoded data removed]"
          },
          "metadata": {
            "needs_background": "light"
          }
        }
      ]
    },
    {
      "cell_type": "code",
      "source": [
        "#Outliers - 2019 White People Population\n",
        "sns.boxplot(x=df['19_PCTWHPOP'])\n",
        "plt.show()"
      ],
      "metadata": {
        "colab": {
          "base_uri": "https://localhost:8080/",
          "height": 280
        },
        "id": "77RCP92KSuuF",
        "outputId": "c1e5f508-5890-43ae-d371-bd385e917688"
      },
      "execution_count": null,
      "outputs": [
        {
          "output_type": "display_data",
          "data": {
            "text/plain": [
              "<Figure size 432x288 with 1 Axes>"
            ],
            "image/png": "[encoded data removed]"
          },
          "metadata": {
            "needs_background": "light"
          }
        }
      ]
    },
    {
      "cell_type": "code",
      "source": [
        "#Outliers - 2019 Hispanic People Population\n",
        "sns.boxplot(x=df['19_PCTHISPOP'])\n",
        "plt.show()"
      ],
      "metadata": {
        "colab": {
          "base_uri": "https://localhost:8080/",
          "height": 280
        },
        "id": "UwMb_LUNTGax",
        "outputId": "28453603-f735-4cde-e5ae-cc7175b5d8bb"
      },
      "execution_count": null,
      "outputs": [
        {
          "output_type": "display_data",
          "data": {
            "text/plain": [
              "<Figure size 432x288 with 1 Axes>"
            ],
            "image/png": "[encoded data removed]"
          },
          "metadata": {
            "needs_background": "light"
          }
        }
      ]
    },
    {
      "cell_type": "code",
      "source": [
        "#Outliers - 2019 Black People Population\n",
        "sns.boxplot(x=df['19_PCTBLPOP'])\n",
        "plt.show()"
      ],
      "metadata": {
        "colab": {
          "base_uri": "https://localhost:8080/",
          "height": 280
        },
        "id": "5bDDydgTkzo3",
        "outputId": "3ed989ae-4373-46f3-e5a9-4fcb99edc1e3"
      },
      "execution_count": null,
      "outputs": [
        {
          "output_type": "display_data",
          "data": {
            "text/plain": [
              "<Figure size 432x288 with 1 Axes>"
            ],
            "image/png": "[encoded data removed]"
          },
          "metadata": {
            "needs_background": "light"
          }
        }
      ]
    },
    {
      "cell_type": "code",
      "execution_count": null,
      "metadata": {
        "id": "X4q1qxKGG3zR",
        "colab": {
          "base_uri": "https://localhost:8080/",
          "height": 335
        },
        "outputId": "d37a7f34-6e2b-4a9f-8cf8-1cc2cefb3d87"
      },
      "outputs": [
        {
          "output_type": "stream",
          "name": "stderr",
          "text": [
            "/usr/local/lib/python3.7/dist-packages/seaborn/distributions.py:2619: FutureWarning: `distplot` is a deprecated function and will be removed in a future version. Please adapt your code to use either `displot` (a figure-level function with similar flexibility) or `histplot` (an axes-level function for histograms).\n",
            "  warnings.warn(msg, FutureWarning)\n"
          ]
        },
        {
          "output_type": "display_data",
          "data": {
            "text/plain": [
              "<Figure size 432x288 with 1 Axes>"
            ],
            "image/png": "[encoded data removed]"
          },
          "metadata": {
            "needs_background": "light"
          }
        }
      ],
      "source": [
        "sns.distplot( a=df[\"20_MEDHHINC\"], hist=True, kde=False, rug=False )\n",
        "plt.show()"
      ]
    },
    {
      "cell_type": "code",
      "execution_count": null,
      "metadata": {
        "id": "uYfcI72KG3zR",
        "colab": {
          "base_uri": "https://localhost:8080/",
          "height": 335
        },
        "outputId": "5a3fd672-185e-4547-c400-e8e5fc91e966"
      },
      "outputs": [
        {
          "output_type": "stream",
          "name": "stderr",
          "text": [
            "/usr/local/lib/python3.7/dist-packages/seaborn/distributions.py:2619: FutureWarning: `distplot` is a deprecated function and will be removed in a future version. Please adapt your code to use either `displot` (a figure-level function with similar flexibility) or `histplot` (an axes-level function for histograms).\n",
            "  warnings.warn(msg, FutureWarning)\n"
          ]
        },
        {
          "output_type": "display_data",
          "data": {
            "text/plain": [
              "<Figure size 432x288 with 1 Axes>"
            ],
            "image/png": "[encoded data removed]"
          },
          "metadata": {
            "needs_background": "light"
          }
        }
      ],
      "source": [
        "sns.distplot( a=df[\"19_MEDHHINC\"], hist=True, kde=False, rug=False )\n",
        "plt.show()"
      ]
    },
    {
      "cell_type": "code",
      "source": [
        ""
      ],
      "metadata": {
        "id": "3rKBKOavk7FP"
      },
      "execution_count": null,
      "outputs": []
    },
    {
      "cell_type": "markdown",
      "source": [
        "# Modeling"
      ],
      "metadata": {
        "id": "NPBDTZ0ol9rp"
      }
    },
    {
      "cell_type": "code",
      "execution_count": null,
      "metadata": {
        "id": "ZwGcvyzCG3zQ"
      },
      "outputs": [],
      "source": [
        "# # Modeling\n",
        "# from sklearn import metrics\n",
        "# from sklearn.model_selection import train_test_split\n",
        "# from sklearn.preprocessing import StandardScaler\n",
        "# from sklearn.linear_model import LinearRegression\n",
        "# import statsmodels.api as sm"
      ]
    },
    {
      "cell_type": "code",
      "execution_count": null,
      "metadata": {
        "id": "pBIdbsYfG3zQ"
      },
      "outputs": [],
      "source": [
        "# # Set up train/test split\n",
        "# X = df.drop(['MEDHHINC_DIFF_PCT', 'MEDHHINC_DIFF_RAW'], axis=1)\n",
        "# y = df['MEDHHINC_DIFF_PCT']"
      ]
    },
    {
      "cell_type": "code",
      "execution_count": null,
      "metadata": {
        "id": "9Nw6mEmIG3zR"
      },
      "outputs": [],
      "source": [
        "# # Split data into 70% training, 30% testing\n",
        "# X_train, X_test, y_train, y_test = train_test_split(X, y, test_size=0.3)"
      ]
    },
    {
      "cell_type": "code",
      "execution_count": null,
      "metadata": {
        "id": "Qlh-tsusG3zR"
      },
      "outputs": [],
      "source": [
        "# # Kitchen sink model\n",
        "# ks = sm.OLS(y, X)\n",
        "# ks_res = ks.fit()\n",
        "# ks_res.summary()"
      ]
    },
    {
      "cell_type": "markdown",
      "source": [
        "# Linear Modeling"
      ],
      "metadata": {
        "id": "7LDlFwhzlu0U"
      }
    },
    {
      "cell_type": "code",
      "execution_count": null,
      "metadata": {
        "id": "sbw0yB_vG3zS"
      },
      "outputs": [],
      "source": [
        "# Import Library\n",
        "from sklearn import metrics\n",
        "from sklearn.model_selection import train_test_split\n",
        "from sklearn.preprocessing import StandardScaler\n",
        "from sklearn.linear_model import LinearRegression\n",
        "from sklearn import linear_model\n",
        "from sklearn.metrics import mean_squared_error, r2_score"
      ]
    },
    {
      "cell_type": "code",
      "execution_count": null,
      "metadata": {
        "id": "W3FNRhkqG3zR",
        "colab": {
          "base_uri": "https://localhost:8080/"
        },
        "outputId": "dd1ec35f-d1ba-4c46-c748-30efaa1b6d3b"
      },
      "outputs": [
        {
          "output_type": "execute_result",
          "data": {
            "text/plain": [
              "0          0.002956\n",
              "1          0.002956\n",
              "2          0.002956\n",
              "3          0.002956\n",
              "4          0.002956\n",
              "             ...   \n",
              "1563433    0.014197\n",
              "1563434    0.011277\n",
              "1563435    0.007609\n",
              "1563436    0.007609\n",
              "1563437    0.007609\n",
              "Name: MEDHHINC_DIFF_PCT, Length: 1522891, dtype: float64"
            ]
          },
          "metadata": {},
          "execution_count": 152
        }
      ],
      "source": [
        "# Split dataset into X and Y variables\n",
        "Y = df.MEDHHINC_DIFF_PCT\n",
        "Y"
      ]
    },
    {
      "cell_type": "code",
      "source": [
        "\n"
      ],
      "metadata": {
        "id": "aQdXTWYwY2E_"
      },
      "execution_count": null,
      "outputs": []
    },
    {
      "cell_type": "code",
      "execution_count": null,
      "metadata": {
        "id": "93Ei7n2vG3zR",
        "colab": {
          "base_uri": "https://localhost:8080/",
          "height": 488
        },
        "outputId": "b90587ca-7878-4004-9f4b-eb7c932342b4"
      },
      "outputs": [
        {
          "output_type": "execute_result",
          "data": {
            "text/plain": [
              "         20_POP20  20_HH20  20_POPGROW20  20_AVGHHSIZE  20_MEDAGHHER  \\\n",
              "0            96.1     37.6          3.44          2.56          55.1   \n",
              "1            58.0     22.7          3.44          2.56          55.1   \n",
              "2            81.2     31.7          3.44          2.56          55.1   \n",
              "3            77.9     30.4          3.44          2.56          55.1   \n",
              "4            77.9     30.4          3.44          2.56          55.1   \n",
              "...           ...      ...           ...           ...           ...   \n",
              "1563433       2.6      1.1          7.75          2.26          60.4   \n",
              "1563434       2.3      1.0         13.13          2.36          59.7   \n",
              "1563435       1.9      0.8         12.37          2.32          61.8   \n",
              "1563436       1.9      0.8         12.37          2.32          61.8   \n",
              "1563437       1.9      0.8         12.37          2.32          61.8   \n",
              "\n",
              "         20_MEDRENT  20_MEDVALOCC  20_MEDVEHICLE  20_MEDHHINC  20_AVGHHINC  \\\n",
              "0               833        273458            2.6       112632       165748   \n",
              "1               833        273458            2.6       112632       165748   \n",
              "2               833        273458            2.6       112632       165748   \n",
              "3               833        273458            2.6       112632       165748   \n",
              "4               833        273458            2.6       112632       165748   \n",
              "...             ...           ...            ...          ...          ...   \n",
              "1563433         228        130226            2.4        58149        60923   \n",
              "1563434         293        165705            2.6        55691        71248   \n",
              "1563435         689        152497            2.5        42243        62745   \n",
              "1563436         689        152497            2.5        42243        62745   \n",
              "1563437         689        152497            2.5        42243        62745   \n",
              "\n",
              "         ...  19_PCTHISPOP  19_PCTWNHPOP  19_PCTGRADDEG  19_PCTWHCOL  \\\n",
              "0        ...          1.78         92.94          23.26        43.95   \n",
              "1        ...          1.78         92.94          23.26        43.95   \n",
              "2        ...          1.78         92.94          23.26        43.95   \n",
              "3        ...          1.78         92.94          23.26        43.95   \n",
              "4        ...          1.78         92.94          23.26        43.95   \n",
              "...      ...           ...           ...            ...          ...   \n",
              "1563433  ...          1.86         94.22           9.67        20.30   \n",
              "1563434  ...          0.90         96.88           4.04        17.35   \n",
              "1563435  ...          2.94         94.61           8.24        21.25   \n",
              "1563436  ...          2.94         94.61           8.24        21.25   \n",
              "1563437  ...          2.94         94.61           8.24        21.25   \n",
              "\n",
              "         19_PCTSPARC  19_CASH_EDU  19_HEALTHINS  19_MEDHHINC  19_MEDAGHHER  \\\n",
              "0               7.50         83.9        4165.7       112300          54.1   \n",
              "1               7.50         83.9        4165.7       112300          54.1   \n",
              "2               7.50         83.9        4165.7       112300          54.1   \n",
              "3               7.50         83.9        4165.7       112300          54.1   \n",
              "4               7.50         83.9        4165.7       112300          54.1   \n",
              "...              ...          ...           ...          ...           ...   \n",
              "1563433         5.66         30.7        3761.1        57335          60.1   \n",
              "1563434         7.36         41.6        3826.5        55070          59.0   \n",
              "1563435         5.23         34.6        3726.1        41924          60.8   \n",
              "1563436         5.23         34.6        3726.1        41924          60.8   \n",
              "1563437         5.23         34.6        3726.1        41924          60.8   \n",
              "\n",
              "          FULL_ZIP  \n",
              "0        270060001  \n",
              "1        270060121  \n",
              "2        270060201  \n",
              "3        270060316  \n",
              "4        270060476  \n",
              "...            ...  \n",
              "1563433  305592385  \n",
              "1563434  305593096  \n",
              "1563435  305599000  \n",
              "1563436  305599200  \n",
              "1563437  305599201  \n",
              "\n",
              "[1522891 rows x 32 columns]"
            ],
            "text/html": [
              "\n",
              "  <div id=\"df-7f92f8c8-a8f9-4b01-b856-1114b8ab03e3\">\n",
              "    <div class=\"colab-df-container\">\n",
              "      <div>\n",
              "<style scoped>\n",
              "    .dataframe tbody tr th:only-of-type {\n",
              "        vertical-align: middle;\n",
              "    }\n",
              "\n",
              "    .dataframe tbody tr th {\n",
              "        vertical-align: top;\n",
              "    }\n",
              "\n",
              "    .dataframe thead th {\n",
              "        text-align: right;\n",
              "    }\n",
              "</style>\n",
              "<table border=\"1\" class=\"dataframe\">\n",
              "  <thead>\n",
              "    <tr style=\"text-align: right;\">\n",
              "      <th></th>\n",
              "      <th>20_POP20</th>\n",
              "      <th>20_HH20</th>\n",
              "      <th>20_POPGROW20</th>\n",
              "      <th>20_AVGHHSIZE</th>\n",
              "      <th>20_MEDAGHHER</th>\n",
              "      <th>20_MEDRENT</th>\n",
              "      <th>20_MEDVALOCC</th>\n",
              "      <th>20_MEDVEHICLE</th>\n",
              "      <th>20_MEDHHINC</th>\n",
              "      <th>20_AVGHHINC</th>\n",
              "      <th>...</th>\n",
              "      <th>19_PCTHISPOP</th>\n",
              "      <th>19_PCTWNHPOP</th>\n",
              "      <th>19_PCTGRADDEG</th>\n",
              "      <th>19_PCTWHCOL</th>\n",
              "      <th>19_PCTSPARC</th>\n",
              "      <th>19_CASH_EDU</th>\n",
              "      <th>19_HEALTHINS</th>\n",
              "      <th>19_MEDHHINC</th>\n",
              "      <th>19_MEDAGHHER</th>\n",
              "      <th>FULL_ZIP</th>\n",
              "    </tr>\n",
              "  </thead>\n",
              "  <tbody>\n",
              "    <tr>\n",
              "      <th>0</th>\n",
              "      <td>96.1</td>\n",
              "      <td>37.6</td>\n",
              "      <td>3.44</td>\n",
              "      <td>2.56</td>\n",
              "      <td>55.1</td>\n",
              "      <td>833</td>\n",
              "      <td>273458</td>\n",
              "      <td>2.6</td>\n",
              "      <td>112632</td>\n",
              "      <td>165748</td>\n",
              "      <td>...</td>\n",
              "      <td>1.78</td>\n",
              "      <td>92.94</td>\n",
              "      <td>23.26</td>\n",
              "      <td>43.95</td>\n",
              "      <td>7.50</td>\n",
              "      <td>83.9</td>\n",
              "      <td>4165.7</td>\n",
              "      <td>112300</td>\n",
              "      <td>54.1</td>\n",
              "      <td>270060001</td>\n",
              "    </tr>\n",
              "    <tr>\n",
              "      <th>1</th>\n",
              "      <td>58.0</td>\n",
              "      <td>22.7</td>\n",
              "      <td>3.44</td>\n",
              "      <td>2.56</td>\n",
              "      <td>55.1</td>\n",
              "      <td>833</td>\n",
              "      <td>273458</td>\n",
              "      <td>2.6</td>\n",
              "      <td>112632</td>\n",
              "      <td>165748</td>\n",
              "      <td>...</td>\n",
              "      <td>1.78</td>\n",
              "      <td>92.94</td>\n",
              "      <td>23.26</td>\n",
              "      <td>43.95</td>\n",
              "      <td>7.50</td>\n",
              "      <td>83.9</td>\n",
              "      <td>4165.7</td>\n",
              "      <td>112300</td>\n",
              "      <td>54.1</td>\n",
              "      <td>270060121</td>\n",
              "    </tr>\n",
              "    <tr>\n",
              "      <th>2</th>\n",
              "      <td>81.2</td>\n",
              "      <td>31.7</td>\n",
              "      <td>3.44</td>\n",
              "      <td>2.56</td>\n",
              "      <td>55.1</td>\n",
              "      <td>833</td>\n",
              "      <td>273458</td>\n",
              "      <td>2.6</td>\n",
              "      <td>112632</td>\n",
              "      <td>165748</td>\n",
              "      <td>...</td>\n",
              "      <td>1.78</td>\n",
              "      <td>92.94</td>\n",
              "      <td>23.26</td>\n",
              "      <td>43.95</td>\n",
              "      <td>7.50</td>\n",
              "      <td>83.9</td>\n",
              "      <td>4165.7</td>\n",
              "      <td>112300</td>\n",
              "      <td>54.1</td>\n",
              "      <td>270060201</td>\n",
              "    </tr>\n",
              "    <tr>\n",
              "      <th>3</th>\n",
              "      <td>77.9</td>\n",
              "      <td>30.4</td>\n",
              "      <td>3.44</td>\n",
              "      <td>2.56</td>\n",
              "      <td>55.1</td>\n",
              "      <td>833</td>\n",
              "      <td>273458</td>\n",
              "      <td>2.6</td>\n",
              "      <td>112632</td>\n",
              "      <td>165748</td>\n",
              "      <td>...</td>\n",
              "      <td>1.78</td>\n",
              "      <td>92.94</td>\n",
              "      <td>23.26</td>\n",
              "      <td>43.95</td>\n",
              "      <td>7.50</td>\n",
              "      <td>83.9</td>\n",
              "      <td>4165.7</td>\n",
              "      <td>112300</td>\n",
              "      <td>54.1</td>\n",
              "      <td>270060316</td>\n",
              "    </tr>\n",
              "    <tr>\n",
              "      <th>4</th>\n",
              "      <td>77.9</td>\n",
              "      <td>30.4</td>\n",
              "      <td>3.44</td>\n",
              "      <td>2.56</td>\n",
              "      <td>55.1</td>\n",
              "      <td>833</td>\n",
              "      <td>273458</td>\n",
              "      <td>2.6</td>\n",
              "      <td>112632</td>\n",
              "      <td>165748</td>\n",
              "      <td>...</td>\n",
              "      <td>1.78</td>\n",
              "      <td>92.94</td>\n",
              "      <td>23.26</td>\n",
              "      <td>43.95</td>\n",
              "      <td>7.50</td>\n",
              "      <td>83.9</td>\n",
              "      <td>4165.7</td>\n",
              "      <td>112300</td>\n",
              "      <td>54.1</td>\n",
              "      <td>270060476</td>\n",
              "    </tr>\n",
              "    <tr>\n",
              "      <th>...</th>\n",
              "      <td>...</td>\n",
              "      <td>...</td>\n",
              "      <td>...</td>\n",
              "      <td>...</td>\n",
              "      <td>...</td>\n",
              "      <td>...</td>\n",
              "      <td>...</td>\n",
              "      <td>...</td>\n",
              "      <td>...</td>\n",
              "      <td>...</td>\n",
              "      <td>...</td>\n",
              "      <td>...</td>\n",
              "      <td>...</td>\n",
              "      <td>...</td>\n",
              "      <td>...</td>\n",
              "      <td>...</td>\n",
              "      <td>...</td>\n",
              "      <td>...</td>\n",
              "      <td>...</td>\n",
              "      <td>...</td>\n",
              "      <td>...</td>\n",
              "    </tr>\n",
              "    <tr>\n",
              "      <th>1563433</th>\n",
              "      <td>2.6</td>\n",
              "      <td>1.1</td>\n",
              "      <td>7.75</td>\n",
              "      <td>2.26</td>\n",
              "      <td>60.4</td>\n",
              "      <td>228</td>\n",
              "      <td>130226</td>\n",
              "      <td>2.4</td>\n",
              "      <td>58149</td>\n",
              "      <td>60923</td>\n",
              "      <td>...</td>\n",
              "      <td>1.86</td>\n",
              "      <td>94.22</td>\n",
              "      <td>9.67</td>\n",
              "      <td>20.30</td>\n",
              "      <td>5.66</td>\n",
              "      <td>30.7</td>\n",
              "      <td>3761.1</td>\n",
              "      <td>57335</td>\n",
              "      <td>60.1</td>\n",
              "      <td>305592385</td>\n",
              "    </tr>\n",
              "    <tr>\n",
              "      <th>1563434</th>\n",
              "      <td>2.3</td>\n",
              "      <td>1.0</td>\n",
              "      <td>13.13</td>\n",
              "      <td>2.36</td>\n",
              "      <td>59.7</td>\n",
              "      <td>293</td>\n",
              "      <td>165705</td>\n",
              "      <td>2.6</td>\n",
              "      <td>55691</td>\n",
              "      <td>71248</td>\n",
              "      <td>...</td>\n",
              "      <td>0.90</td>\n",
              "      <td>96.88</td>\n",
              "      <td>4.04</td>\n",
              "      <td>17.35</td>\n",
              "      <td>7.36</td>\n",
              "      <td>41.6</td>\n",
              "      <td>3826.5</td>\n",
              "      <td>55070</td>\n",
              "      <td>59.0</td>\n",
              "      <td>305593096</td>\n",
              "    </tr>\n",
              "    <tr>\n",
              "      <th>1563435</th>\n",
              "      <td>1.9</td>\n",
              "      <td>0.8</td>\n",
              "      <td>12.37</td>\n",
              "      <td>2.32</td>\n",
              "      <td>61.8</td>\n",
              "      <td>689</td>\n",
              "      <td>152497</td>\n",
              "      <td>2.5</td>\n",
              "      <td>42243</td>\n",
              "      <td>62745</td>\n",
              "      <td>...</td>\n",
              "      <td>2.94</td>\n",
              "      <td>94.61</td>\n",
              "      <td>8.24</td>\n",
              "      <td>21.25</td>\n",
              "      <td>5.23</td>\n",
              "      <td>34.6</td>\n",
              "      <td>3726.1</td>\n",
              "      <td>41924</td>\n",
              "      <td>60.8</td>\n",
              "      <td>305599000</td>\n",
              "    </tr>\n",
              "    <tr>\n",
              "      <th>1563436</th>\n",
              "      <td>1.9</td>\n",
              "      <td>0.8</td>\n",
              "      <td>12.37</td>\n",
              "      <td>2.32</td>\n",
              "      <td>61.8</td>\n",
              "      <td>689</td>\n",
              "      <td>152497</td>\n",
              "      <td>2.5</td>\n",
              "      <td>42243</td>\n",
              "      <td>62745</td>\n",
              "      <td>...</td>\n",
              "      <td>2.94</td>\n",
              "      <td>94.61</td>\n",
              "      <td>8.24</td>\n",
              "      <td>21.25</td>\n",
              "      <td>5.23</td>\n",
              "      <td>34.6</td>\n",
              "      <td>3726.1</td>\n",
              "      <td>41924</td>\n",
              "      <td>60.8</td>\n",
              "      <td>305599200</td>\n",
              "    </tr>\n",
              "    <tr>\n",
              "      <th>1563437</th>\n",
              "      <td>1.9</td>\n",
              "      <td>0.8</td>\n",
              "      <td>12.37</td>\n",
              "      <td>2.32</td>\n",
              "      <td>61.8</td>\n",
              "      <td>689</td>\n",
              "      <td>152497</td>\n",
              "      <td>2.5</td>\n",
              "      <td>42243</td>\n",
              "      <td>62745</td>\n",
              "      <td>...</td>\n",
              "      <td>2.94</td>\n",
              "      <td>94.61</td>\n",
              "      <td>8.24</td>\n",
              "      <td>21.25</td>\n",
              "      <td>5.23</td>\n",
              "      <td>34.6</td>\n",
              "      <td>3726.1</td>\n",
              "      <td>41924</td>\n",
              "      <td>60.8</td>\n",
              "      <td>305599201</td>\n",
              "    </tr>\n",
              "  </tbody>\n",
              "</table>\n",
              "<p>1522891 rows × 32 columns</p>\n",
              "</div>\n",
              "      <button class=\"colab-df-convert\" onclick=\"convertToInteractive('df-7f92f8c8-a8f9-4b01-b856-1114b8ab03e3')\"\n",
              "              title=\"Convert this dataframe to an interactive table.\"\n",
              "              style=\"display:none;\">\n",
              "        \n",
              "  <svg xmlns=\"http://www.w3.org/2000/svg\" height=\"24px\"viewBox=\"0 0 24 24\"\n",
              "       width=\"24px\">\n",
              "    <path d=\"M0 0h24v24H0V0z\" fill=\"none\"/>\n",
              "    <path d=\"M18.56 5.44l.94 2.06.94-2.06 2.06-.94-2.06-.94-.94-2.06-.94 2.06-2.06.94zm-11 1L8.5 8.5l.94-2.06 2.06-.94-2.06-.94L8.5 2.5l-.94 2.06-2.06.94zm10 10l.94 2.06.94-2.06 2.06-.94-2.06-.94-.94-2.06-.94 2.06-2.06.94z\"/><path d=\"M17.41 7.96l-1.37-1.37c-.4-.4-.92-.59-1.43-.59-.52 0-1.04.2-1.43.59L10.3 9.45l-7.72 7.72c-.78.78-.78 2.05 0 2.83L4 21.41c.39.39.9.59 1.41.59.51 0 1.02-.2 1.41-.59l7.78-7.78 2.81-2.81c.8-.78.8-2.07 0-2.86zM5.41 20L4 18.59l7.72-7.72 1.47 1.35L5.41 20z\"/>\n",
              "  </svg>\n",
              "      </button>\n",
              "      \n",
              "  <style>\n",
              "    .colab-df-container {\n",
              "      display:flex;\n",
              "      flex-wrap:wrap;\n",
              "      gap: 12px;\n",
              "    }\n",
              "\n",
              "    .colab-df-convert {\n",
              "      background-color: #E8F0FE;\n",
              "      border: none;\n",
              "      border-radius: 50%;\n",
              "      cursor: pointer;\n",
              "      display: none;\n",
              "      fill: #1967D2;\n",
              "      height: 32px;\n",
              "      padding: 0 0 0 0;\n",
              "      width: 32px;\n",
              "    }\n",
              "\n",
              "    .colab-df-convert:hover {\n",
              "      background-color: #E2EBFA;\n",
              "      box-shadow: 0px 1px 2px rgba(60, 64, 67, 0.3), 0px 1px 3px 1px rgba(60, 64, 67, 0.15);\n",
              "      fill: #174EA6;\n",
              "    }\n",
              "\n",
              "    [theme=dark] .colab-df-convert {\n",
              "      background-color: #3B4455;\n",
              "      fill: #D2E3FC;\n",
              "    }\n",
              "\n",
              "    [theme=dark] .colab-df-convert:hover {\n",
              "      background-color: #434B5C;\n",
              "      box-shadow: 0px 1px 3px 1px rgba(0, 0, 0, 0.15);\n",
              "      filter: drop-shadow(0px 1px 2px rgba(0, 0, 0, 0.3));\n",
              "      fill: #FFFFFF;\n",
              "    }\n",
              "  </style>\n",
              "\n",
              "      <script>\n",
              "        const buttonEl =\n",
              "          document.querySelector('#df-7f92f8c8-a8f9-4b01-b856-1114b8ab03e3 button.colab-df-convert');\n",
              "        buttonEl.style.display =\n",
              "          google.colab.kernel.accessAllowed ? 'block' : 'none';\n",
              "\n",
              "        async function convertToInteractive(key) {\n",
              "          const element = document.querySelector('#df-7f92f8c8-a8f9-4b01-b856-1114b8ab03e3');\n",
              "          const dataTable =\n",
              "            await google.colab.kernel.invokeFunction('convertToInteractive',\n",
              "                                                     [key], {});\n",
              "          if (!dataTable) return;\n",
              "\n",
              "          const docLinkHtml = 'Like what you see? Visit the ' +\n",
              "            '<a target=\"_blank\" href=https://colab.research.google.com/notebooks/data_table.ipynb>data table notebook</a>'\n",
              "            + ' to learn more about interactive tables.';\n",
              "          element.innerHTML = '';\n",
              "          dataTable['output_type'] = 'display_data';\n",
              "          await google.colab.output.renderOutput(dataTable, element);\n",
              "          const docLink = document.createElement('div');\n",
              "          docLink.innerHTML = docLinkHtml;\n",
              "          element.appendChild(docLink);\n",
              "        }\n",
              "      </script>\n",
              "    </div>\n",
              "  </div>\n",
              "  "
            ]
          },
          "metadata": {},
          "execution_count": 153
        }
      ],
      "source": [
        "X = df.drop(['ZIP_CODE', 'ZIP4', 'MEDHHINC_DIFF_PCT', 'MEDHHINC_DIFF_RAW'], axis=1)\n",
        "X"
      ]
    },
    {
      "cell_type": "code",
      "execution_count": null,
      "metadata": {
        "id": "qhoB0OeGG3zS"
      },
      "outputs": [],
      "source": [
        "# Perform 70/30 data split\n",
        "X_train, X_test, Y_train, Y_test = train_test_split(X, Y, test_size=0.3)"
      ]
    },
    {
      "cell_type": "code",
      "execution_count": null,
      "metadata": {
        "id": "QsB__NI0G3zS"
      },
      "outputs": [],
      "source": [
        "# Data Dimension"
      ]
    },
    {
      "cell_type": "code",
      "execution_count": null,
      "metadata": {
        "id": "tqJPiUDjG3zS",
        "colab": {
          "base_uri": "https://localhost:8080/"
        },
        "outputId": "ae140a30-28c0-46b0-c2f5-07a37c1ba14b"
      },
      "outputs": [
        {
          "output_type": "execute_result",
          "data": {
            "text/plain": [
              "((1066023, 32), (1066023,))"
            ]
          },
          "metadata": {},
          "execution_count": 155
        }
      ],
      "source": [
        "X_train.shape, Y_train.shape"
      ]
    },
    {
      "cell_type": "code",
      "execution_count": null,
      "metadata": {
        "id": "RnLUAQdDG3zS",
        "colab": {
          "base_uri": "https://localhost:8080/"
        },
        "outputId": "9a482b41-728d-4aa4-f740-3523a0674f61"
      },
      "outputs": [
        {
          "output_type": "execute_result",
          "data": {
            "text/plain": [
              "((456868, 32), (456868,))"
            ]
          },
          "metadata": {},
          "execution_count": 156
        }
      ],
      "source": [
        "X_test.shape, Y_test.shape"
      ]
    },
    {
      "cell_type": "code",
      "execution_count": null,
      "metadata": {
        "id": "xBYMw6gGG3zS"
      },
      "outputs": [],
      "source": [
        "# Linear Regression Model"
      ]
    },
    {
      "cell_type": "code",
      "execution_count": null,
      "metadata": {
        "id": "gOSHxTMAG3zT"
      },
      "outputs": [],
      "source": [
        "# Build linear regression"
      ]
    },
    {
      "cell_type": "code",
      "execution_count": null,
      "metadata": {
        "id": "1bxLblIpG3zT"
      },
      "outputs": [],
      "source": [
        "# Define the model\n",
        "model = linear_model.LinearRegression()"
      ]
    },
    {
      "cell_type": "code",
      "execution_count": null,
      "metadata": {
        "id": "uDAV1H9RG3zT",
        "colab": {
          "base_uri": "https://localhost:8080/"
        },
        "outputId": "d502edbc-491d-4f93-d518-b3980117613c"
      },
      "outputs": [
        {
          "output_type": "execute_result",
          "data": {
            "text/plain": [
              "LinearRegression()"
            ]
          },
          "metadata": {},
          "execution_count": 158
        }
      ],
      "source": [
        "# Build Training Model\n",
        "model.fit(X_train, Y_train)"
      ]
    },
    {
      "cell_type": "code",
      "execution_count": null,
      "metadata": {
        "id": "Tw0CCYhTG3zT"
      },
      "outputs": [],
      "source": [
        "# Apply trained model to make prediction (on test set)\n",
        "Y_pred = model.predict(X_test)"
      ]
    },
    {
      "cell_type": "code",
      "execution_count": null,
      "metadata": {
        "id": "enxQyBBYG3zT"
      },
      "outputs": [],
      "source": [
        "# Prediction Results"
      ]
    },
    {
      "cell_type": "code",
      "execution_count": null,
      "metadata": {
        "id": "abWwr6WqG3zT",
        "colab": {
          "base_uri": "https://localhost:8080/"
        },
        "outputId": "0f57732f-1d5b-4c0e-d6ae-9fecc00c2d51"
      },
      "outputs": [
        {
          "output_type": "stream",
          "name": "stdout",
          "text": [
            "Coefficients: [-0.00011403  0.00020451  0.00002187 -0.00048265  0.00031854 -0.00000023\n",
            " -0.          0.00942693  0.00001414 -0.          0.00000006  0.00346936\n",
            " -0.00037851 -0.          0.00011383 -0.00016205  0.00003008 -0.0084644\n",
            " -0.00353883  0.00004174 -0.00018309 -0.00006574  0.00008009  0.00021895\n",
            " -0.00001882 -0.00006384  0.00008908  0.00017263 -0.00001081 -0.00001416\n",
            " -0.00024021  0.        ]\n",
            "Intercept: 0.01518611404674297\n",
            "Mean squared error (MSE): 0.000281\n",
            "Coefficient of determination (R^2): 0.736291\n"
          ]
        }
      ],
      "source": [
        "# Print Model Performance\n",
        "print('Coefficients:', model.coef_)\n",
        "print('Intercept:', model.intercept_)\n",
        "print('Mean squared error (MSE): %.6f'\n",
        "      % mean_squared_error(Y_test, Y_pred))\n",
        "print('Coefficient of determination (R^2): %.6f'\n",
        "      % r2_score(Y_test, Y_pred))"
      ]
    },
    {
      "cell_type": "code",
      "execution_count": null,
      "metadata": {
        "id": "AOztQ9BkG3zT"
      },
      "outputs": [],
      "source": [
        ""
      ]
    },
    {
      "cell_type": "code",
      "execution_count": null,
      "metadata": {
        "id": "YWbW-HUvG3zT"
      },
      "outputs": [],
      "source": [
        ""
      ]
    },
    {
      "cell_type": "markdown",
      "source": [
        "# New Section"
      ],
      "metadata": {
        "id": "G5JPEFAzXh4a"
      }
    },
    {
      "cell_type": "code",
      "source": [
        ""
      ],
      "metadata": {
        "id": "yMWXmCOKXVJZ"
      },
      "execution_count": null,
      "outputs": []
    },
    {
      "cell_type": "code",
      "source": [
        ""
      ],
      "metadata": {
        "id": "7Kf6brCoXVp8"
      },
      "execution_count": null,
      "outputs": []
    },
    {
      "cell_type": "markdown",
      "source": [
        "# New Section"
      ],
      "metadata": {
        "id": "Wy99tl3UYEQC"
      }
    },
    {
      "cell_type": "code",
      "execution_count": null,
      "metadata": {
        "id": "VcZShLWRG3zT"
      },
      "outputs": [],
      "source": [
        "# # Jesseca's Model\n",
        "# from sklearn import metrics\n",
        "# from sklearn.model_selection import train_test_split\n",
        "# from sklearn.preprocessing import StandardScaler\n",
        "# from sklearn.linear_model import LinearRegression"
      ]
    },
    {
      "cell_type": "code",
      "execution_count": null,
      "metadata": {
        "id": "8lzBHAlBG3zU"
      },
      "outputs": [],
      "source": [
        "# # Set up train/test split\n",
        "# X = df.drop(['MEDHHINC_DIFF_PCT', 'MEDHHINC_DIFF_RAW', '20_CRRTTYPE', 'ZIP_CODE','ZIP4', 'Right_ZIP_CODE', 'Right_ZIP4', 'STAABBRV'], axis=1)\n",
        "# y = df['MEDHHINC_DIFF_PCT']"
      ]
    },
    {
      "cell_type": "code",
      "execution_count": null,
      "metadata": {
        "id": "OXXfAM7WG3zU"
      },
      "outputs": [],
      "source": [
        "# # Split data into 70% training, 30% testing\n",
        "# X_train, X_test, y_train, y_test = train_test_split(X, y, test_size=0.3)"
      ]
    },
    {
      "cell_type": "code",
      "execution_count": null,
      "metadata": {
        "id": "9O8imNGcG3zU"
      },
      "outputs": [],
      "source": [
        "# Kitchen sink method on scaled data\n",
        "# Results are to predict change in median household income from 2019-2021"
      ]
    },
    {
      "cell_type": "code",
      "execution_count": null,
      "metadata": {
        "id": "m7vPGGz7G3zU"
      },
      "outputs": [],
      "source": [
        "# import statsmodels.api as sm\n",
        "# ks = sm.GLSAR(y, X)\n",
        "# ks_res = ks.fit()\n",
        "# ks_res.summary()"
      ]
    },
    {
      "cell_type": "code",
      "execution_count": null,
      "metadata": {
        "id": "FbMI2GZvG3zU"
      },
      "outputs": [],
      "source": [
        "df"
      ]
    },
    {
      "cell_type": "code",
      "execution_count": null,
      "metadata": {
        "id": "wcg7UVIiG3zU"
      },
      "outputs": [],
      "source": [
        ""
      ]
    }
  ],
  "metadata": {
    "instance_type": "ml.g4dn.xlarge",
    "kernelspec": {
      "display_name": "Python 3 (Data Science)",
      "language": "python",
      "name": "python3__SAGEMAKER_INTERNAL__arn:aws:sagemaker:us-east-1:081325390199:image/datascience-1.0"
    },
    "language_info": {
      "codemirror_mode": {
        "name": "ipython",
        "version": 3
      },
      "file_extension": ".py",
      "mimetype": "text/x-python",
      "name": "python",
      "nbconvert_exporter": "python",
      "pygments_lexer": "ipython3",
      "version": "3.7.10"
    },
    "colab": {
      "name": "COVID19-NC.ipynb",
      "provenance": [],
      "collapsed_sections": [
        "G5JPEFAzXh4a"
      ],
      "include_colab_link": true
    }
  },
  "nbformat": 4,
  "nbformat_minor": 0
}